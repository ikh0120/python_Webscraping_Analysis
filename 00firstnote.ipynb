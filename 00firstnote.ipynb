{
 "cells": [
  {
   "cell_type": "markdown",
   "id": "acef2e21-9f3c-4ec8-a195-96d314496337",
   "metadata": {},
   "source": [
    "def add(n1, n2): \n",
    "   pass # 우선 선언만 하겠다\n",
    "아니면 return 넣기\n",
    "\n",
    "Markdown 문법 알기\n",
    "jupyter lab의 help/Markdown Reference에 있음\n",
    "셀에서 esc + m으로 마크다운 넣기 \n",
    "다시 코드로 돌리려면 esc + y\n",
    "\n",
    "단축키 목록:\n",
    "\thelp/show keyboard shortcuts\n",
    "\n"
   ]
  },
  {
   "cell_type": "code",
   "execution_count": null,
   "id": "9c5014b9-18d8-4cd0-84a7-65b045683539",
   "metadata": {},
   "outputs": [],
   "source": []
  }
 ],
 "metadata": {
  "kernelspec": {
   "display_name": "Python 3 (ipykernel)",
   "language": "python",
   "name": "python3"
  },
  "language_info": {
   "codemirror_mode": {
    "name": "ipython",
    "version": 3
   },
   "file_extension": ".py",
   "mimetype": "text/x-python",
   "name": "python",
   "nbconvert_exporter": "python",
   "pygments_lexer": "ipython3",
   "version": "3.12.7"
  }
 },
 "nbformat": 4,
 "nbformat_minor": 5
}
