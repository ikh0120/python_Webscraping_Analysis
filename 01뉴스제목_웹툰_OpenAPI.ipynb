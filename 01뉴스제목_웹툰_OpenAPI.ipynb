{
 "cells": [
  {
   "cell_type": "markdown",
   "id": "eb0bfa44",
   "metadata": {},
   "source": [
    "## 1. 뉴스제목 가져오기\n",
    "* user-agent 요청헤더를 반드시 설정해야 한다."
   ]
  },
  {
   "cell_type": "code",
   "execution_count": 1,
   "id": "63d3ef00-c265-4cb0-9696-4bb270236c23",
   "metadata": {},
   "outputs": [
    {
     "name": "stdout",
     "output_type": "stream",
     "text": [
      "Name: requests\n",
      "Version: 2.32.3\n",
      "Summary: Python HTTP for Humans.\n",
      "Home-page: https://requests.readthedocs.io\n",
      "Author: Kenneth Reitz\n",
      "Author-email: me@kennethreitz.org\n",
      "License: Apache-2.0\n",
      "Location: C:\\Users\\user\\anaconda3\\Lib\\site-packages\n",
      "Requires: certifi, charset-normalizer, idna, urllib3\n",
      "Required-by: anaconda-catalogs, anaconda-client, anaconda-cloud-auth, anaconda-project, conda, conda-build, conda-repo-cli, conda_package_streaming, cookiecutter, datashader, jupyterlab_server, panel, requests-file, requests-toolbelt, Sphinx, streamlit, tldextract\n"
     ]
    }
   ],
   "source": [
    "# requests 라이브러리 설치여부 확인\n",
    "!pip show requests"
   ]
  },
  {
   "cell_type": "code",
   "execution_count": 2,
   "id": "f7798ea8",
   "metadata": {},
   "outputs": [
    {
     "name": "stdout",
     "output_type": "stream",
     "text": [
      "Name: beautifulsoup4\n",
      "Version: 4.12.3\n",
      "Summary: Screen-scraping library\n",
      "Home-page: https://www.crummy.com/software/BeautifulSoup/bs4/\n",
      "Author: \n",
      "Author-email: Leonard Richardson <leonardr@segfault.org>\n",
      "License: MIT License\n",
      "Location: C:\\Users\\user\\anaconda3\\Lib\\site-packages\n",
      "Requires: soupsieve\n",
      "Required-by: conda-build, nbconvert\n"
     ]
    }
   ],
   "source": [
    "# beautifulsoup4 라이브러리 설치여부 확인\n",
    "!pip show beautifulsoup4"
   ]
  },
  {
   "cell_type": "code",
   "execution_count": null,
   "id": "bf80a429",
   "metadata": {},
   "outputs": [],
   "source": [
    "# reqeusts, bs4 import\n",
    "import requests\n",
    "import bs4\n",
    "# BeautifulSoup 클래스 import\n",
    "from bs4 import BeautifulSoup\n",
    "# 우리가 쓸거라 메모리에 적제 시켜야 함함"
   ]
  },
  {
   "cell_type": "code",
   "execution_count": 7,
   "id": "9788d6ac",
   "metadata": {},
   "outputs": [
    {
     "name": "stdout",
     "output_type": "stream",
     "text": [
      "requests 버전 2.32.3\n",
      "beautifulsoup 버전 4.12.3\n"
     ]
    }
   ],
   "source": [
    "# requests, bs4 버전 확인하기\n",
    "print(f'requests 버전 {requests.__version__}')\n",
    "print(f'beautifulsoup 버전 {bs4.__version__}')"
   ]
  },
  {
   "cell_type": "markdown",
   "id": "ccb91def-cde3-4aeb-b0e5-2e7233500333",
   "metadata": {},
   "source": [
    "### 1. 뉴스 제목 추출하기"
   ]
  },
  {
   "cell_type": "code",
   "execution_count": 54,
   "id": "94c12fd6",
   "metadata": {},
   "outputs": [
    {
     "name": "stdout",
     "output_type": "stream",
     "text": [
      "https://news.naver.com/section/105\n",
      "<Response [200]>\n",
      "<class 'requests.models.Response'>\n",
      "200 True\n",
      "84\n",
      "<class 'bs4.element.ResultSet'>\n",
      "https://n.news.naver.com/mnews/article/008/0005177272 SKT '보이스피싱 탐지 AI', IBK銀·에이닷에 탑재\n",
      "https://n.news.naver.com/mnews/article/comment/008/0005177272 \n",
      "https://n.news.naver.com/mnews/article/421/0008179150 \"AI로 제조현장 무사고 도전\"…SK C&C 'AI DX 기반 SHE' 구축\n",
      "https://n.news.naver.com/mnews/article/comment/421/0008179150 \n",
      "https://n.news.naver.com/mnews/article/023/0003898297 AI 포털 뤼튼 “감정 교류 개인화 AI와 리워드 서비스로 올해 1000만 이용자 달성”\n",
      "https://n.news.naver.com/mnews/article/comment/023/0003898297 \n",
      "https://n.news.naver.com/mnews/article/030/0003301438 스트래티지 코리아, ABL생명에 '데이터 분석 및 통합 관리 플랫폼' 구축\n",
      "https://n.news.naver.com/mnews/article/comment/030/0003301438 \n",
      "https://n.news.naver.com/mnews/article/030/0003301336 카카오메이커스, 누적 거래액 1조 돌파\n",
      "https://n.news.naver.com/mnews/article/comment/030/0003301336 \n",
      "https://n.news.naver.com/mnews/article/003/0013170465 \"악성문자 발송단계부터 차단\"…정부, '엑스레이 서비스' 시범 운영\n",
      "https://n.news.naver.com/mnews/article/comment/003/0013170465 \n",
      "https://n.news.naver.com/mnews/article/016/0002454498 “이건 너무 심했다” 발칵 뒤집힌 애플…쏟아지는 뭇매에 결국\n",
      "https://n.news.naver.com/mnews/article/comment/016/0002454498 \n",
      "https://n.news.naver.com/mnews/article/030/0003301461 SK그룹, SK실트론 매각 추진\n",
      "https://n.news.naver.com/mnews/article/comment/030/0003301461 \n",
      "https://n.news.naver.com/mnews/article/015/0005116736 \"그 돈이면 한국 드론 20개 산다\"…천조국에 '도전장' [긱스]\n",
      "https://n.news.naver.com/mnews/article/comment/015/0005116736 \n",
      "https://n.news.naver.com/mnews/article/015/0005116731 \"돈도 못 벌면서\" 구박 받던 당근…드디어 돈 벌었다 [긱스]\n",
      "https://n.news.naver.com/mnews/article/comment/015/0005116731 \n",
      "https://n.news.naver.com/mnews/article/029/0002946789 AI가 바꾼 검색 풍경… 이젠 키워드 말고 사진 `찰칵`\n",
      "https://n.news.naver.com/mnews/article/comment/029/0002946789 \n",
      "https://n.news.naver.com/mnews/article/031/0000922940 \"애플, 美 관세 피해 중국 아닌 인도서 아이폰 생산 늘린다\"\n",
      "https://n.news.naver.com/mnews/article/comment/031/0000922940 \n",
      "https://n.news.naver.com/mnews/article/011/0004471741 기술력이 자산이 되지 못하는 나라 [기자의눈]\n",
      "https://n.news.naver.com/mnews/article/comment/011/0004471741 \n",
      "https://n.news.naver.com/mnews/article/031/0000922930 찜솥 더위·높은 습도 견디는 고효율 태양전지 나온다 [지금은 과학]\n",
      "https://n.news.naver.com/mnews/article/comment/031/0000922930 \n",
      "https://n.news.naver.com/mnews/article/366/0001067701 2분짜리 영상도 뚝딱… 불붙은 아마존·오픈AI·구글 영상 AI 경쟁\n",
      "https://n.news.naver.com/mnews/article/comment/366/0001067701 \n",
      "https://n.news.naver.com/mnews/article/092/0002369863 K푸드에 닥친 '관세 쇼크'…삼양·LG생건 등 더 걱정\n",
      "https://n.news.naver.com/mnews/article/comment/092/0002369863 \n",
      "https://n.news.naver.com/mnews/article/009/0005472991 사흘간 비행기 5대 띄워 … 애플, 중국·인도産 아이폰 긴급수송\n",
      "https://n.news.naver.com/mnews/article/comment/009/0005472991 \n",
      "https://n.news.naver.com/mnews/article/584/0000031792 DNA까지 침투…나노플라스틱 생성 원리 최초 규명\n",
      "https://n.news.naver.com/mnews/article/comment/584/0000031792 \n",
      "https://n.news.naver.com/mnews/article/009/0005472950 옷장 비췄더니 AI가 \"이 옷 입으세요\"\n",
      "https://n.news.naver.com/mnews/article/comment/009/0005472950 \n",
      "https://n.news.naver.com/mnews/article/081/0003531813 美 스탠퍼드대 ‘AI 보고서’ 선정된 유일한 한국 모델은?\n",
      "https://n.news.naver.com/mnews/article/comment/081/0003531813 \n",
      "https://n.news.naver.com/mnews/article/366/0001067696 의협, “내년 의대 정원 3058명으로”…정부·국회에 대화 요구도\n",
      "https://n.news.naver.com/mnews/article/comment/366/0001067696 \n",
      "https://n.news.naver.com/mnews/article/092/0002369861 BBQ, 법정관리 '위메프' 품을까...\"인수 의향서 제출\"\n",
      "https://n.news.naver.com/mnews/article/comment/092/0002369861 \n",
      "https://n.news.naver.com/mnews/article/138/0002194290 키움증권 ‘전산 먹통’ 논란…  결국 다우기술로 불똥튀나\n",
      "https://n.news.naver.com/mnews/article/comment/138/0002194290 \n",
      "https://n.news.naver.com/mnews/article/009/0005472935 \"기존 약물 새 쓰임새, AI로 찾아냅니다\"\n",
      "https://n.news.naver.com/mnews/article/comment/009/0005472935 \n",
      "https://n.news.naver.com/mnews/article/029/0002946759 `한국계 우주비행사` 조니 김, 러 우주선 타고 국제우주정거장 `발사`\n",
      "https://n.news.naver.com/mnews/article/comment/029/0002946759 \n",
      "https://n.news.naver.com/mnews/article/138/0002194287 [DD퇴근길] '갤럭시S25' 통했나?…삼성전자, 1Q 어닝서프라이즈\n",
      "https://n.news.naver.com/mnews/article/comment/138/0002194287 \n",
      "https://n.news.naver.com/mnews/article/138/0002194286 악성문자 발송단계서 원천차단…'엑스레이' 서비스, 9일부터 시범 운영\n",
      "https://n.news.naver.com/mnews/article/comment/138/0002194286 \n",
      "https://n.news.naver.com/mnews/article/003/0013171527 아이폰 미리 사야할까…관세 쇼크에 美에선 일부 사재기 현상\n",
      "https://n.news.naver.com/mnews/article/comment/003/0013171527 \n",
      "https://n.news.naver.com/mnews/article/092/0002369859 순이익 3분의 1인데…MBK, '오스템임플란트' 고배당 논란\n",
      "https://n.news.naver.com/mnews/article/comment/092/0002369859 \n",
      "https://n.news.naver.com/mnews/article/417/0001069560 소상공인과 IT공룡 사이… 장미 대선 앞두고 '온플법' 재점화될까\n",
      "https://n.news.naver.com/mnews/article/comment/417/0001069560 \n",
      "https://n.news.naver.com/mnews/article/293/0000065897 토스랩의 '잔디 몰입' 전략…챗GPT 없어도 AI로 리포트 쓰고 번역한다[테크체인저]\n",
      "https://n.news.naver.com/mnews/article/comment/293/0000065897 \n",
      "https://n.news.naver.com/mnews/article/092/0002369855 [유미's 픽] 트럼프 관세 폭탄 '코 앞'…글로벌 SW·AI 시장 찬바람 불까\n",
      "https://n.news.naver.com/mnews/article/comment/092/0002369855 \n",
      "https://n.news.naver.com/mnews/article/421/0008180923 '국민 게임' 포트리스 빠르면 올해 안에 돌아온다\n",
      "https://n.news.naver.com/mnews/article/comment/421/0008180923 \n",
      "https://n.news.naver.com/mnews/article/469/0000858365 국산 유전자재조합 탄저 백신 세계 첫 허가... GC녹십자, 1년반 만에 상용화\n",
      "https://n.news.naver.com/mnews/article/comment/469/0000858365 \n",
      "https://n.news.naver.com/mnews/article/025/0003432725 [팩플] 미중 AI격차 좁혀졌다...LG AI 엑사원 3.5 주목할만한 모델 선정\n",
      "https://n.news.naver.com/mnews/article/comment/025/0003432725 \n",
      "https://n.news.naver.com/mnews/article/009/0005472903 지브리풍 인기 끌자...네이버 스노우도 “일본 애니 프사 만들어드려요”\n",
      "https://n.news.naver.com/mnews/article/comment/009/0005472903 \n",
      "https://n.news.naver.com/mnews/article/020/0003626847 [생활 속 IT] 아이폰 ‘나의 찾기’로 실시간 위치 공유·제품 찾는 방법\n",
      "https://n.news.naver.com/mnews/article/comment/020/0003626847 \n",
      "https://n.news.naver.com/mnews/article/029/0002946736 아이폰 가격 인상 우려에 \"미리 산다\"...美 오프라인 매장 `인산인해`\n",
      "https://n.news.naver.com/mnews/article/comment/029/0002946736 \n",
      "https://n.news.naver.com/mnews/article/138/0002194283 [韓보안진단]⑥ 20년만에 19곳 인수…팔로알토네트웍스 성장 비결은 '통합'\n",
      "https://n.news.naver.com/mnews/article/comment/138/0002194283 \n",
      "https://n.news.naver.com/mnews/article/243/0000076002 \"아이폰 50만원 올라?\"…관세에 애플스토어 뛰어간 미국인들\n",
      "https://n.news.naver.com/mnews/article/comment/243/0000076002 \n",
      "https://n.news.naver.com/mnews/article/138/0002194282 ‘재해복구’ 없는 범정부 초거대AI 공통기반 구현사업, 졸속 추진 우려\n",
      "https://n.news.naver.com/mnews/article/comment/138/0002194282 \n",
      "https://n.news.naver.com/mnews/article/421/0008180886 [일문일답] 의협, 정부·국회에 대화 요구…\"교육 어려우면 안 뽑아야\"\n",
      "https://n.news.naver.com/mnews/article/comment/421/0008180886 \n"
     ]
    }
   ],
   "source": [
    "# IT/과학 뉴스 \n",
    "req_param = {\n",
    "    'sid': 105\n",
    "}\n",
    "# 이거는 동적 문자열 format으로 바꿀 수 있음음\n",
    "# 딕셔너리를 format함수의 인자로 넣을 때 ** 들어가야 됨\n",
    "# req_param['sid']를 호출 \n",
    "url = 'https://news.naver.com/section/{sid}'.format(**req_param)\n",
    "print(url)\n",
    "# 이거는 정적 문자열\n",
    "url2 = 'https://news.naver.com/section/105'\n",
    "\n",
    "# 요청 헤더 설정 : 브라우저 정보(기계가 아니라 사람처럼 보이게 하려고 설정하는 것임)\n",
    "req_header = {\n",
    "    # 이건 f12 누르고 Network 탭에서 All탭에 새로고침 하면 헤더가 나옴\n",
    "    'user-agent': 'Mozilla/5.0 (Windows NT 10.0; Win64; x64) AppleWebKit/537.36 (KHTML, like Gecko) Chrome/135.0.0.0 Safari/537.36'\n",
    "}\n",
    "\n",
    "# requests 의 get() 함수 호출하기 \n",
    "res = requests.get(url, headers=req_header)\n",
    "print(res)\n",
    "print(type(res))\n",
    "# res.status_code가 200이어야만 가능\n",
    "# res.status_code가 200일경우 res.ok == True 출력\n",
    "print(res.status_code, res.ok) \n",
    "\n",
    "# 응답(response)이 OK 이면\n",
    "#if res.ok == True:\n",
    "if res.ok:\n",
    "    # pass # 이거는 함수 선언만 하면 오류나는데 그냥 오류 안생기게 pass하는거\n",
    "    \n",
    "    # 응답 (response)에서 text 추출 - source에서 나오는 모든 텍스트 가져오기\n",
    "    html = res.text\n",
    "    # print(html)\n",
    "\n",
    "    # BeautifulSoup 객체 생성\n",
    "    ### parser가 뭐에요?\n",
    "    soup = BeautifulSoup(html, 'html.parser')\n",
    "    # print(soup)\n",
    "    \n",
    "    # CSS 선택자\n",
    "    # <div class='sa_text'><a href=''></a></div>\n",
    "    print(len(soup.select(\"div.sa_text a[href*='mnews/article']\")))\n",
    "    # print(soup.select(\"div.sa_text a[href*='mnews/article']\"))\n",
    "    \n",
    "    a_tag_list= soup.select(\"div.sa_text a[href*='mnews/article']\")\n",
    "    print(type(a_tag_list)) # ResultSet: [<a href=\"https://\">뉴스 제목</a>], Tag 객체: <a></a>\n",
    "\n",
    "    for a_tag in a_tag_list:\n",
    "        # print(type(a_tag))\n",
    "        # print(a_tag.text.strip())\n",
    "        title = a_tag.text.strip()\n",
    "        # href 속성 값 가져오기기\n",
    "        link = a_tag['href']\n",
    "        # 링크랑 타이틀 한 번에 뿌리기\n",
    "        print(link, title)\n",
    "        # print(title)\n",
    "    \n",
    "\n",
    "\n",
    "    # <a> 태그 리스트 순회하기    \n",
    "else :\n",
    "    # 응답(response)이 Error 이면 status code 출력    \n",
    "    print(f'에러 코드는 {res.status_code}')\n"
   ]
  },
  {
   "cell_type": "markdown",
   "id": "45640860-a449-4285-90d7-5f300292b461",
   "metadata": {},
   "source": [
    "### 1.1 뉴스제목 추출하는 함수 선언하기"
   ]
  },
  {
   "cell_type": "code",
   "execution_count": null,
   "id": "9f2e4ef8",
   "metadata": {},
   "outputs": [
    {
     "name": "stdout",
     "output_type": "stream",
     "text": [
      "=====>https://news.naver.com/section/101 경제 뉴스 <=====\n",
      "<Response [200]>\n",
      "<class 'requests.models.Response'>\n",
      "200 True\n",
      "92\n",
      "<class 'bs4.element.ResultSet'>\n",
      "https://n.news.naver.com/mnews/article/014/0005333072 LS·우크라이나, 전력·농업 등 인프라 재건 논의\n",
      "https://n.news.naver.com/mnews/article/comment/014/0005333072 \n",
      "https://n.news.naver.com/mnews/article/028/0002739805 나라 살림 105조 적자…2년 연속 ‘세수 펑크’ 탓\n",
      "https://n.news.naver.com/mnews/article/comment/028/0002739805 \n",
      "https://n.news.naver.com/mnews/article/079/0004011372 한국전력, 사람 살리는 'AI 기반 고독사 예방' 서비스 '눈길'\n",
      "https://n.news.naver.com/mnews/article/comment/079/0004011372 \n",
      "https://n.news.naver.com/mnews/article/629/0000380260 2월 경상수지 71.8억달러…22개월 연속 흑자\n",
      "https://n.news.naver.com/mnews/article/comment/629/0000380260 \n",
      "https://n.news.naver.com/mnews/article/003/0013170198 '공사 실적 충북 1위' 대흥건설, 결국 법정관리 신청\n",
      "https://n.news.naver.com/mnews/article/comment/003/0013170198 \n",
      "https://n.news.naver.com/mnews/article/015/0005116679 삼성 반전의 비밀 '이구환신' 뭐길래…'3조' 잭팟 터졌다\n",
      "https://n.news.naver.com/mnews/article/comment/015/0005116679 \n",
      "https://n.news.naver.com/mnews/article/015/0005116479 한화그룹, 한화에어로 증자 논란 '정면돌파'...승계 논란에 선긋기\n",
      "https://n.news.naver.com/mnews/article/comment/015/0005116479 \n",
      "https://n.news.naver.com/mnews/article/366/0001067492 삼성전자, 예상보다 선방한 1분기…2분기엔 트럼프발 관세가 ‘찬물’\n",
      "https://n.news.naver.com/mnews/article/comment/366/0001067492 \n",
      "https://n.news.naver.com/mnews/article/011/0004471587 탄저백신 국산화 성공…세계 첫 유전자재조합 방식\n",
      "https://n.news.naver.com/mnews/article/comment/011/0004471587 \n",
      "https://n.news.naver.com/mnews/article/016/0002454479 최상목 “美관세, 최적의 협의전략 마련할 것…업종별 대책 속도”\n",
      "https://n.news.naver.com/mnews/article/comment/016/0002454479 \n",
      "https://n.news.naver.com/mnews/article/022/0004026059 읍소하고 협상단 보내고… “트럼프를 설득하라” [관세전쟁 후폭풍]\n",
      "https://n.news.naver.com/mnews/article/comment/022/0004026059 \n",
      "https://n.news.naver.com/mnews/article/001/0015318250 SK, SK실트론 경영권 매각 등 타진…사업 '리밸런싱' 차원\n",
      "https://n.news.naver.com/mnews/article/comment/001/0015318250 \n",
      "https://n.news.naver.com/mnews/article/015/0005116752 트럼프 50% 위협에 中 \"싸울 것\"…美·中무역전쟁 장기화 우려\n",
      "https://n.news.naver.com/mnews/article/comment/015/0005116752 \n",
      "https://n.news.naver.com/mnews/article/277/0005574821 SK그룹 'SK실트론' 한앤컴퍼니에 매각 타진\n",
      "https://n.news.naver.com/mnews/article/comment/277/0005574821 \n",
      "https://n.news.naver.com/mnews/article/018/0005982713 \"증시 당분간 관망…단기 국채 비중 늘려야\"\n",
      "https://n.news.naver.com/mnews/article/comment/018/0005982713 \n",
      "https://n.news.naver.com/mnews/article/031/0000922953 개미는 삼성전자를 담는다…\"실적 좋은데\" vs \"美 관세 봐야\"\n",
      "https://n.news.naver.com/mnews/article/comment/031/0000922953 \n",
      "https://n.news.naver.com/mnews/article/025/0003432774 \"임금 삭감 없는 정년연장, 청년 일자리만 뺏는다\" 한은의 경고\n",
      "https://n.news.naver.com/mnews/article/comment/025/0003432774 \n",
      "https://n.news.naver.com/mnews/article/029/0002946803 [기획] \"하나라도 더 건지자\"… 세계각국, 트럼프 설득에 안간힘\n",
      "https://n.news.naver.com/mnews/article/comment/029/0002946803 \n",
      "https://n.news.naver.com/mnews/article/009/0005473049 “본보기는 너로 정했다”…트럼프 ‘강대강’ 中에 104% 관세폭탄 엄포\n",
      "https://n.news.naver.com/mnews/article/comment/009/0005473049 \n",
      "https://n.news.naver.com/mnews/article/011/0004471756 '몸값 11조' 카카오엔터, IPO서 매각으로 선회 [시그널]\n",
      "https://n.news.naver.com/mnews/article/comment/011/0004471756 \n",
      "https://n.news.naver.com/mnews/article/050/0000089016 SK '딥 체인지' 이끈 최태원, '룰 체인지'로 삼각파도 넘는다\n",
      "https://n.news.naver.com/mnews/article/comment/050/0000089016 \n",
      "https://n.news.naver.com/mnews/article/022/0004026049 ‘관세 직격탄’ 애플 주가 19% ‘뚝’… 갈수록 커지는 ‘T공포’ [관세전쟁 후폭풍]\n",
      "https://n.news.naver.com/mnews/article/comment/022/0004026049 \n",
      "https://n.news.naver.com/mnews/article/018/0005982707 [마켓인]알짜매물이라지만…PE들, 애경산업 인수전 '뜨뜻미지근'\n",
      "https://n.news.naver.com/mnews/article/comment/018/0005982707 \n",
      "https://n.news.naver.com/mnews/article/029/0002946800 갤럭시S25가 이끈 1분기… 시장 기대치 웃돈 삼성전자\n",
      "https://n.news.naver.com/mnews/article/comment/029/0002946800 \n",
      "https://n.news.naver.com/mnews/article/025/0003432770 미국 반도체 기업들 시총, 6일새 834조원 증발...\"중국 의존도 재확인\"\n",
      "https://n.news.naver.com/mnews/article/comment/025/0003432770 \n",
      "https://n.news.naver.com/mnews/article/009/0005473047 中 맞불에 분노한 트럼프 “너넨 관세 50% 더”…중국의 반응은?\n",
      "https://n.news.naver.com/mnews/article/comment/009/0005473047 \n",
      "https://n.news.naver.com/mnews/article/009/0005473046 역사적 낙폭 진입한 S&P500…과거 공포 이후 수익률 살펴보니\n",
      "https://n.news.naver.com/mnews/article/comment/009/0005473046 \n",
      "https://n.news.naver.com/mnews/article/015/0005116745 매그나칩, 디스플레이 사업 청산 결정...전력반도체에 '올인'\n",
      "https://n.news.naver.com/mnews/article/comment/015/0005116745 \n",
      "https://n.news.naver.com/mnews/article/008/0005177708 증시, 폭풍 뒤 안정?…달러 하락, 국채수익률 급등시 조심해야[오미주]\n",
      "https://n.news.naver.com/mnews/article/comment/008/0005177708 \n",
      "https://n.news.naver.com/mnews/article/025/0003432768 미·중 치킨게임…원화값 1473원대 추락, 글로벌 금융위기 후 최저\n",
      "https://n.news.naver.com/mnews/article/comment/025/0003432768 \n",
      "https://n.news.naver.com/mnews/article/047/0002469048 협력사에는 대금 못 주면서 '장사 잘된다'는 홈플러스\n",
      "https://n.news.naver.com/mnews/article/comment/047/0002469048 \n",
      "https://n.news.naver.com/mnews/article/082/0001320263 끝 안 보이는 관세 충격, 환율 또 천장 뚫렸다\n",
      "https://n.news.naver.com/mnews/article/comment/082/0001320263 \n",
      "https://n.news.naver.com/mnews/article/015/0005116727 HD현대重, 美 함정 1위와 동맹 맺는다\n",
      "https://n.news.naver.com/mnews/article/comment/015/0005116727 \n",
      "https://n.news.naver.com/mnews/article/056/0011927474 햄버거 이어 치킨까지?…이중가격제 부담은 소비자만? [이슈픽]\n",
      "https://n.news.naver.com/mnews/article/comment/056/0011927474 \n",
      "https://n.news.naver.com/mnews/article/374/0000434072 발등 불 떨어진 한화, 에너지 1.3조원 유증…승계 논란 불식은 글쎄\n",
      "https://n.news.naver.com/mnews/article/comment/374/0000434072 \n",
      "https://n.news.naver.com/mnews/article/374/0000434070 한화에어로 주주배정 유증 2.3조로…오너가 유증할인 없다\n",
      "https://n.news.naver.com/mnews/article/comment/374/0000434070 \n",
      "https://n.news.naver.com/mnews/article/014/0005333142 트레이더스, 가전계 큰손 우뚝... '가성비’로 매대 채워 완판 행진\n",
      "https://n.news.naver.com/mnews/article/comment/014/0005333142 \n",
      "https://n.news.naver.com/mnews/article/029/0002946790 [오늘의 DT인] \"상호관세율 잘못 계산 성공할 수 없어… 관세 정책 완전히 폐기해야\"\n",
      "https://n.news.naver.com/mnews/article/comment/029/0002946790 \n",
      "https://n.news.naver.com/mnews/article/374/0000434067 삼성전자 구한 갤럭시…1분기 영업익 6.6조\n",
      "https://n.news.naver.com/mnews/article/comment/374/0000434067 \n",
      "https://n.news.naver.com/mnews/article/082/0001320252 부산 중견 건설사 또 기업회생 신청… ‘도미노 위기’ 현실화\n",
      "https://n.news.naver.com/mnews/article/comment/082/0001320252 \n",
      "https://n.news.naver.com/mnews/article/014/0005333124 한화에어로 \"현지화로 유럽 방산 뚫어야… 막대한 투자 필수\"\n",
      "https://n.news.naver.com/mnews/article/comment/014/0005333124 \n",
      "https://n.news.naver.com/mnews/article/014/0005333122 현대차, 美재고 3개월치로 ‘관세폭탄’ 일단 버틴다\n",
      "https://n.news.naver.com/mnews/article/comment/014/0005333122 \n",
      "https://n.news.naver.com/mnews/article/018/0005982693 '갤럭시 효과' 삼성전자, 영업익 6.6조 선방…美관세는 리스크\n",
      "https://n.news.naver.com/mnews/article/comment/018/0005982693 \n",
      "https://n.news.naver.com/mnews/article/014/0005333114 'T 공포' 덮친 코스피 2300도 위태… 기업들 상장 몸사린다 [뚝 끊긴 IPO]\n",
      "https://n.news.naver.com/mnews/article/comment/014/0005333114 \n",
      "https://n.news.naver.com/mnews/article/014/0005333112 한화 3형제, 주주 위해 결단... 에어로 유증 1조3천억 참여\n",
      "https://n.news.naver.com/mnews/article/comment/014/0005333112 \n",
      "https://n.news.naver.com/mnews/article/029/0002946784 유동성 확보 나선 카카오페이증권...`자기자본 수준` 1600억 차입\n",
      "https://n.news.naver.com/mnews/article/comment/029/0002946784 \n"
     ]
    }
   ],
   "source": [
    "import requests\n",
    "from bs4 import BeautifulSoup\n",
    "\n",
    "## Black Formatter 설치 후 <shift> + <alt> + f 누르면  자동 들여쓰기 정렬됨\n",
    "section_dict = {\n",
    "    100: \"정치\",\n",
    "    101: \"경제\",\n",
    "    102: \"사회\",\n",
    "    103: \"생활/문화\",\n",
    "    104: \"세계\",\n",
    "    105: \"IT/과학\",\n",
    "}\n",
    "\n",
    "\n",
    "def print_news(sid):  # print_news(101)\n",
    "    section = section_dict[sid]\n",
    "    # req_param = {\"sid\": 105}\n",
    "\n",
    "    # url = \"https://news.naver.com/section/{sid}\".format(**req_param)\n",
    "    url = f\"https://news.naver.com/section/{sid}\"\n",
    "    \n",
    "    ## 출력: =====>https://news.naver.com/section/101 경제 뉴스 <=====\n",
    "    print(f\"=====>{url} {section} 뉴스 <=====\")\n",
    "    \n",
    "    # 요청 헤더 설정 : 브라우저 정보(기계가 아니라 사람처럼 보이게 하려고 설정하는 것임)\n",
    "    req_header = {\n",
    "        # 이건 f12 누르고 Network 탭에서 All탭에 새로고침 하면 헤더가 나옴\n",
    "        \"user-agent\": \"Mozilla/5.0 (Windows NT 10.0; Win64; x64) AppleWebKit/537.36 (KHTML, like Gecko) Chrome/135.0.0.0 Safari/537.36\"\n",
    "    }\n",
    "\n",
    "    # requests 의 get() 함수 호출하기\n",
    "    res = requests.get(url, headers=req_header)\n",
    "    print(res)\n",
    "    print(type(res))\n",
    "    # res.status_code가 200이어야만 가능\n",
    "    # res.status_code가 200일경우 res.ok == True 출력\n",
    "    print(res.status_code, res.ok)\n",
    "\n",
    "    if res.ok:\n",
    "        # pass # 이거는 함수 선언만 하면 오류나는데 그냥 오류 안생기게 pass하는거\n",
    "\n",
    "        # 응답 (response)에서 text 추출 - source에서 나오는 모든 텍스트 가져오기\n",
    "        html = res.text\n",
    "        # print(html)\n",
    "\n",
    "        # BeautifulSoup 객체 생성\n",
    "        ### parser가 뭐에요?\n",
    "        soup = BeautifulSoup(html, \"html.parser\")\n",
    "        # print(soup)\n",
    "\n",
    "        # CSS 선택자\n",
    "        # <div class='sa_text'><a href=''></a></div>\n",
    "        print(len(soup.select(\"div.sa_text a[href*='mnews/article']\")))\n",
    "        # print(soup.select(\"div.sa_text a[href*='mnews/article']\"))\n",
    "\n",
    "        a_tag_list = soup.select(\"div.sa_text a[href*='mnews/article']\")\n",
    "        print(\n",
    "            type(a_tag_list)\n",
    "        )  # ResultSet: [<a href=\"http://\">뉴스 제목</a>], Tag 객체: <a></a>\n",
    "\n",
    "        for a_tag in a_tag_list:\n",
    "            # print(type(a_tag))\n",
    "            # print(a_tag.text.strip())\n",
    "            title = a_tag.text.strip()\n",
    "            # href 속성 값 가져오기기\n",
    "            link = a_tag[\"href\"]\n",
    "            # 링크랑 타이틀 한 번에 뿌리기\n",
    "            print(link, title)\n",
    "            # print(title)\n",
    "\n",
    "        # <a> 태그 리스트 순회하기\n",
    "    else:\n",
    "        # 응답(response)이 Error 이면 status code 출력\n",
    "        print(f\"에러 코드는 {res.status_code}\")\n",
    "\n",
    "\n",
    "# 함수 호출\n",
    "print_news(101)"
   ]
  },
  {
   "cell_type": "markdown",
   "id": "323196dc",
   "metadata": {},
   "source": [
    "### 2. Image 다운로드\n",
    "* referer 요청 헤더를 반드시 설정해야 한다."
   ]
  },
  {
   "cell_type": "code",
   "execution_count": 62,
   "id": "c72d6cb1",
   "metadata": {},
   "outputs": [
    {
     "name": "stdout",
     "output_type": "stream",
     "text": [
      "Writing to 20220804112251_d97bd1e1b38f0cd022e4e3639d2926b3_IMAG01_1.jpg(299319 bytes)\n",
      "Writing to 20220804112251_d97bd1e1b38f0cd022e4e3639d2926b3_IMAG01_2.jpg(163333 bytes)\n",
      "Writing to 20220804112251_d97bd1e1b38f0cd022e4e3639d2926b3_IMAG01_3.jpg(182530 bytes)\n"
     ]
    }
   ],
   "source": [
    "import requests\n",
    "import os\n",
    "\n",
    "\n",
    "req_header = {\n",
    "    # img_urls는 해당 'referer'에서 시작됨됨\n",
    "    'referer':'https://comic.naver.com/webtoon/detail?titleId=798173&no=5&amp;weekday=thu'\n",
    "}\n",
    "\n",
    "img_urls = [\n",
    "    'https://image-comic.pstatic.net/webtoon/798173/5/20220804112251_d97bd1e1b38f0cd022e4e3639d2926b3_IMAG01_1.jpg',\n",
    "    'https://image-comic.pstatic.net/webtoon/798173/5/20220804112251_d97bd1e1b38f0cd022e4e3639d2926b3_IMAG01_2.jpg',\n",
    "    'https://image-comic.pstatic.net/webtoon/798173/5/20220804112251_d97bd1e1b38f0cd022e4e3639d2926b3_IMAG01_3.jpg'\n",
    "]\n",
    "\n",
    "for img_url in img_urls:\n",
    "    # requests 의 get(url, headers) 함수 호출하기 \n",
    "    # 여기서 headers 파라미터가 없으면  res.status_code = 403에러(권한없음)가 뜸\n",
    "    res = requests.get(img_url, headers=req_header)\n",
    "    \n",
    "    if res.ok:\n",
    "        # binary 응답 데이터 가져오기 content 프로퍼티 사용\n",
    "        img_data = res.content\n",
    "        # url에서 파일명만 추출하기\n",
    "        file_name = os.path.basename(img_url)\n",
    "        # binday data를 file에 write하기\n",
    "        with open(file_name,'+wb') as file:\n",
    "            print(f'Writing to {file_name}({len(img_data)} bytes)')\n",
    "            file.write(img_data)\n"
   ]
  },
  {
   "cell_type": "markdown",
   "id": "e8b00a04",
   "metadata": {},
   "source": [
    "* 현재 요청된 페이지의 image 모두 다운로드 해보기"
   ]
  },
  {
   "cell_type": "code",
   "execution_count": null,
   "id": "b30f7bf5",
   "metadata": {},
   "outputs": [
    {
     "name": "stdout",
     "output_type": "stream",
     "text": [
      "138\n",
      "318\n",
      "319\n",
      "138 ['https://image-comic.pstatic.net/webtoon/783053/180/20250307115450_5c59941da52ffa8470b90684ddf5beb6_IMAG01_1.jpg', 'https://image-comic.pstatic.net/webtoon/783053/180/20250307115450_5c59941da52ffa8470b90684ddf5beb6_IMAG01_2.jpg']\n"
     ]
    }
   ],
   "source": [
    "import requests\n",
    "from bs4 import BeautifulSoup\n",
    "import os\n",
    "\n",
    "url = 'https://comic.naver.com/webtoon/detail?titleId=783053&no=180&week=tue'\n",
    "req_header = {\n",
    "    'referer': url\n",
    "}\n",
    "res = requests.get(url)\n",
    "\n",
    "if res.ok:\n",
    "    # jpg 파일의 절대경로 url 찾기\n",
    "    soup = BeautifulSoup(res.text, 'html.parser')\n",
    "    \n",
    "    print(len(soup.select(\"img[src*='IMAG01']\"))) # 138\n",
    "    print(len(soup.select(\"img[src$='.jpg']\"))) # 318\n",
    "    # image-comic\n",
    "    print(len(soup.select(\"img[src^='https://image-comic']\"))) # 319\n",
    "    \n",
    "    img_tags = soup.select(\"img[src*='IMAG01']\")\n",
    "    # img src를 저장할 리스트 선언\n",
    "    # 초기화 방법: list()와 []가 있음 \n",
    "    img_url_list = list() \n",
    "    for img_tag in img_tags:\n",
    "        # print(type(img_tag), img_tag.name, img_tag)\n",
    "        img_src = img_tag['src']\n",
    "        # print(img_src)\n",
    "        img_url_list.append(img_src)\n",
    "    print(len(img_url_list), img_url_list[:2])\n",
    "    \n",
    "    # img 디렉토리 생성하기\n",
    "    imgdir_name = 'img'\n",
    "    # img 디렉토리를 무조건 생성하는게 아닌 없으면 생성해야 함\n",
    "    if not os.path.isdir(imgdir_name):\n",
    "        os.mkdir(imgdir_name)\n",
    "        \n",
    "    # os.path.join(dir, file)\n",
    "else:\n",
    "    print(f\"Error Code = {res.status_code}\")\n",
    "\n"
   ]
  },
  {
   "cell_type": "markdown",
   "id": "2ac9f5f9",
   "metadata": {},
   "source": [
    "### 3. 파일 업로드 하기\n",
    "* http://httpbin.org/post 업로드 요청을 할 수 있는 url"
   ]
  },
  {
   "cell_type": "code",
   "execution_count": null,
   "id": "04da4790",
   "metadata": {},
   "outputs": [
    {
     "name": "stdout",
     "output_type": "stream",
     "text": [
      "200\n"
     ]
    }
   ],
   "source": [
    "import requests\n",
    "\n",
    "upload_files = {\n",
    "    \n",
    "}\n",
    "#print(upload_files)\n",
    "\n",
    "url = 'http://httpbin.org/post'\n",
    "# file 업로드 하려면 requests의 post 함수에 files 속성을 사용합니다.\n",
    "\n"
   ]
  },
  {
   "cell_type": "markdown",
   "id": "7ad65f12",
   "metadata": {},
   "source": [
    "### 4. 캡챠(이미지) API 호출하기\n",
    "* urllib 사용\n",
    "* 1. 캡차 키 발급 요청\n",
    "  2. 캡차 이미지 요청\n",
    "  3. 사용자 입력값 검증 요청"
   ]
  },
  {
   "cell_type": "code",
   "execution_count": 2,
   "id": "bc4ae360-e772-4873-8642-d3494edd34e1",
   "metadata": {},
   "outputs": [],
   "source": [
    "# 캡차 키 발급 요청\n"
   ]
  },
  {
   "cell_type": "code",
   "execution_count": 1,
   "id": "7b95b6a0-c218-4792-82a6-da4d80872071",
   "metadata": {},
   "outputs": [],
   "source": [
    "# 캡차 이미지 요청\n"
   ]
  },
  {
   "cell_type": "code",
   "execution_count": 3,
   "id": "a79076af-2cd0-4de2-8301-316b9130c55e",
   "metadata": {},
   "outputs": [],
   "source": [
    "#  사용자 입력값 검증 요청\n",
    "\n"
   ]
  },
  {
   "cell_type": "markdown",
   "id": "b7d984a6",
   "metadata": {},
   "source": [
    "* requests를 사용하는 코드로 변경하기\n",
    "* [requests docs](https://requests.readthedocs.io/en/latest/user/quickstart/)"
   ]
  },
  {
   "cell_type": "code",
   "execution_count": null,
   "id": "727b427b",
   "metadata": {
    "scrolled": true
   },
   "outputs": [
    {
     "name": "stdout",
     "output_type": "stream",
     "text": [
      "Error Code: 403\n"
     ]
    }
   ],
   "source": [
    "# 사용자 입력값 검증 요청\n",
    "\n"
   ]
  },
  {
   "cell_type": "markdown",
   "id": "d5e1179a",
   "metadata": {},
   "source": [
    "### 5. 블로그 검색하기"
   ]
  },
  {
   "cell_type": "code",
   "execution_count": null,
   "id": "877d0c7f",
   "metadata": {},
   "outputs": [],
   "source": [
    "import requests\n",
    "import pprint\n",
    "\n",
    "headers = {\n",
    "    'X-Naver-Client-Id': '',\n",
    "    'X-Naver-Client-Secret': '',\n",
    "}\n",
    "\n",
    "payload = {\n",
    "    'query': '파이썬',\n",
    "    'display': 100,\n",
    "    'sort': 'sim'\n",
    "}\n",
    "\n",
    "url = 'https://openapi.naver.com/v1/search/blog.json'\n",
    "\n",
    "\n",
    "# requests get(url, params, headers) 요청 \n",
    "\n",
    "# json() 함수로 응답 결과 가져오오기\n",
    "# 'title' , 'bloggername' , 'description' , 'bloggerlink' , 'link'\n",
    "\n",
    "# 'data/nhnblog.txt' 파일 생성하기\n"
   ]
  }
 ],
 "metadata": {
  "kernelspec": {
   "display_name": "base",
   "language": "python",
   "name": "python3"
  },
  "language_info": {
   "codemirror_mode": {
    "name": "ipython",
    "version": 3
   },
   "file_extension": ".py",
   "mimetype": "text/x-python",
   "name": "python",
   "nbconvert_exporter": "python",
   "pygments_lexer": "ipython3",
   "version": "3.12.7"
  }
 },
 "nbformat": 4,
 "nbformat_minor": 5
}
