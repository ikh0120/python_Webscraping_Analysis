{
 "cells": [
  {
   "cell_type": "markdown",
   "id": "badc42f5",
   "metadata": {},
   "source": [
    "# 3-1. 네이버 책 검색 API 호출하기 (필수)\n",
    "\n",
    "https://developers.naver.com/docs/serviceapi/search/book/book.md#%EC%B1%85\n",
    "\n",
    "검색어(query)는  함수의 인자로 받아서 동적으로 처리 되어야 합니다. \n",
    "\n",
    "최대한 코드가 중복되지 않도록 공통으로 처리해야 하는 부분은 함수로 작성해서 재사용 하는 방식으로 코드를 작성해 주세요.\n",
    "\n",
    "def search_books(query):\n",
    "\n",
    "   #query string 문자열을 dict 선언\n",
    "\n",
    "   payload = {\n",
    "\n",
    "      'query':  query, #'파이썬',\n",
    "\n",
    "      'display': 50,\n",
    "\n",
    "      'sort': 'sim'\n",
    "\n",
    "   }\n",
    "\n",
    "   url = 'https://openapi.naver.com/v1/search/book.json'\n",
    "   \n",
    "   #requests get(url, params, headers) 요청 \n",
    "   \n",
    "   res = requests.get(url, params=payload, headers=headers)\n",
    "   \n",
    "   #json() 함수로 응답 결과 가져오기\n",
    "   \n",
    "   items_data = res.json()['items'] \n",
    "\n"
   ]
  },
  {
   "cell_type": "code",
   "execution_count": null,
   "id": "ebc6a6de",
   "metadata": {},
   "outputs": [],
   "source": []
  },
  {
   "cell_type": "markdown",
   "id": "00f9c75b",
   "metadata": {},
   "source": [
    "### 1. 질문 :  검색어로  찾은  책 목록을 json 파일로 저장하기\n",
    "\n",
    "   data/books.json 파일로 저장해 주세요.\n"
   ]
  },
  {
   "cell_type": "code",
   "execution_count": null,
   "id": "aaad3f7b",
   "metadata": {},
   "outputs": [],
   "source": []
  },
  {
   "cell_type": "markdown",
   "id": "fcceb22c",
   "metadata": {},
   "source": [
    "### 2. books.json 파일을 Pandas DataFrame로 저장하기"
   ]
  },
  {
   "cell_type": "code",
   "execution_count": null,
   "id": "6fdb5612",
   "metadata": {},
   "outputs": [],
   "source": []
  },
  {
   "cell_type": "markdown",
   "id": "3c32fcc2",
   "metadata": {},
   "source": [
    "### 3. 질문 :  검색어로  찾은  책 목록 출력하기\n"
   ]
  },
  {
   "cell_type": "code",
   "execution_count": null,
   "id": "9f25ac59",
   "metadata": {},
   "outputs": [],
   "source": []
  },
  {
   "cell_type": "markdown",
   "id": "8faecc09",
   "metadata": {},
   "source": [
    "### 4. 질문 :  검색어로  찾은  책 목록 중에서 가격이 2만원 이상인 책만 출력하기\n",
    "\n",
    "title,author,discount,publisher,pubdate 컬럼만 출력\n",
    "\n",
    "가격은 descending (내림차순), index 초기화\n"
   ]
  },
  {
   "cell_type": "code",
   "execution_count": null,
   "id": "6e06cc60",
   "metadata": {},
   "outputs": [],
   "source": []
  },
  {
   "cell_type": "markdown",
   "id": "cfb527e0",
   "metadata": {},
   "source": [
    "### 5. 질문 :  검색어로  찾은  책 목록 중에서 출판사가 인피니티북스인 책만 출력하기\n",
    "\n",
    "image , description 컬럼은 제외한 모든 컬럼 출력하기\n",
    "\n",
    "index 는 초기화\n"
   ]
  },
  {
   "cell_type": "code",
   "execution_count": null,
   "id": "57de58cb",
   "metadata": {},
   "outputs": [],
   "source": []
  },
  {
   "cell_type": "markdown",
   "id": "83c5a292",
   "metadata": {},
   "source": [
    "# 3-2. 네이버 쇼핑 검색 API 호출하기 (필수)\n",
    "https://developers.naver.com/docs/serviceapi/search/book/book.md#%EC%B1%85\n",
    "\n",
    "검색어(query)는  함수의 인자로 받아서 동적으로 처리되어야 합니다. \n",
    "\n",
    "최대한 코드가 중복되지 않도록 공통으로 출력되는 부분은 함수로 처리해야 합니다.\n",
    "\n",
    "def search_shops(query):   \n",
    "\n",
    "    payload = {\n",
    "\n",
    "        'query':  query, #'가디건',\n",
    "        \n",
    "        'display': 50,\n",
    "        \n",
    "        'sort': 'sim'\n",
    "    \n",
    "    }\n",
    "\n",
    "   url = 'https://openapi.naver.com/v1/search/shop.json'\n",
    "   \n",
    "   #requests get(url, params, headers) 요청 \n",
    "    \n",
    "   res = requests.get(url, params=payload, headers=headers)\n",
    "   \n",
    "   #json() 함수로 응답 결과 가져오기\n",
    "   \n",
    "   items_data = res.json()['items']\n"
   ]
  },
  {
   "cell_type": "code",
   "execution_count": null,
   "id": "b3dcecea",
   "metadata": {},
   "outputs": [],
   "source": []
  },
  {
   "cell_type": "markdown",
   "id": "f5a79644",
   "metadata": {},
   "source": [
    "### 2. shops.json 파일을 Pandas DataFrame로 저장하기"
   ]
  },
  {
   "cell_type": "code",
   "execution_count": null,
   "id": "d0570cc1",
   "metadata": {},
   "outputs": [],
   "source": []
  },
  {
   "cell_type": "markdown",
   "id": "99774b16",
   "metadata": {},
   "source": [
    "### 3. 질문 :  검색어로  찾은  Shop의 상품  목록 출력하기\n"
   ]
  },
  {
   "cell_type": "code",
   "execution_count": null,
   "id": "706f7e33",
   "metadata": {},
   "outputs": [],
   "source": []
  },
  {
   "cell_type": "markdown",
   "id": "3a3d2605",
   "metadata": {},
   "source": [
    "### 4. 질문 :  검색어로  찾은  Shop의 상품  목록 중에서 가격이 50,000원 이하인 상품만 출력하기\n",
    "\n",
    "brand,lprice,mallName,link 컬럼만 출력\n",
    "\n",
    "가격은 ascending (오름차순), index 초기화\n"
   ]
  },
  {
   "cell_type": "code",
   "execution_count": null,
   "id": "634656a2",
   "metadata": {},
   "outputs": [],
   "source": []
  },
  {
   "cell_type": "markdown",
   "id": "1a348142",
   "metadata": {},
   "source": [
    "### 4. 질문 :  검색어로  찾은  Shop의 상품  목록 중에서 특정 쇼핑몰 상품만 출력하기\n",
    "\n",
    "lprice 부터 brand  컬럼까지 slicing 으로 선택하여 출력\n",
    "\n",
    "가격은 ascending (오름차순), index 초기화\n"
   ]
  },
  {
   "cell_type": "code",
   "execution_count": null,
   "id": "d6cbb628",
   "metadata": {},
   "outputs": [],
   "source": []
  }
 ],
 "metadata": {
  "language_info": {
   "name": "python"
  }
 },
 "nbformat": 4,
 "nbformat_minor": 5
}
