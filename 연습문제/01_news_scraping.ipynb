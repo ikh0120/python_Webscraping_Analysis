{
 "cells": [
  {
   "cell_type": "markdown",
   "id": "4530480b",
   "metadata": {},
   "source": [
    "연습문제는 당일 밤 12시까지 제출해 주세요.\n",
    "\n",
    "각자의 GitHub 에 올려 주신 후에 Git Repository 주소를 vega2k8s@gmail.com 으로 알려주세요.\n",
    "\n",
    "수업에 의견이나 개인적인 내용들도 메일에 남겨 주시면 좋을 것 같습니다. \n"
   ]
  },
  {
   "cell_type": "markdown",
   "id": "1b31fa4d",
   "metadata": {},
   "source": [
    "1. Daum 뉴스기사 제목 스크래핑하기(필수 제출)\n",
    "\n",
    "\n",
    "1) 질문:  아래의 url에서 뉴스기사의 링크와 제목을 출력하세요.\n",
    "\n",
    "\n",
    "    # 다음 경제 뉴스 URL\n",
    "\n",
    "\n",
    "    url = 'https://news.daum.net/economy'\n",
    "\n",
    "\n",
    "    파일명: 01_news_scraping.ipynb\n",
    "\n",
    "\n",
    "    실행결과: \n",
    "\n",
    "\n",
    "https://news.daum.net/economy\n",
    "\n",
    "\n",
    "<class 'requests.models.Response'>\n",
    "\n",
    "200\n",
    "\n",
    "<class 'bs4.element.ResultSet'> 9\n",
    "\n",
    "https://v.daum.net/v/20250408113412211\n",
    "\n",
    "트럼프 때문에 '공동 묘지' 된 금융시장, 투자 전문가 \"뉴스 보지 말라\" 왜?\n",
    "\n",
    "https://v.daum.net/v/20250408111800386\n",
    "\n",
    "한국 GDP 성장 기여도 95% 달하는 수출에 직격탄 [관세전쟁 후폭풍]\n",
    "\n",
    "https://v.daum.net/v/20250408111603311\n",
    "\n",
    "'검은 월요일' 1987년과 2025년\n",
    "\n",
    "https://v.daum.net/v/20250408111500208\n",
    "\n",
    "주왕산국립공원 1/3 삼킨 화마…1대뿐인 헬기 무용지물이었다\n",
    "\n",
    "https://v.daum.net/v/20250408110625822\n",
    "\n",
    "\"기금형 퇴직연금, 국민연금과 달라…사각지대 근로자 품어야\"[이슈인터뷰]\n",
    "\n",
    "https://v.daum.net/v/20250408110307619\n",
    "\n",
    "세수결손에 나라살림 104.8조 적자…GDP 대비 4% 넘어\n",
    "\n",
    "https://v.daum.net/v/20250408110021362\n",
    "\n",
    "지난해 국가채무 1175조로 ‘역대 최대’인데… 정부 “예상보다 덜 늘어”\n",
    "\n",
    "https://v.daum.net/v/20250408100455408\n",
    "\n",
    "올 2월에 첫 월세 60%? 5년 전에도 '월세 시대'였다 [분석+]\n",
    "\n",
    "https://v.daum.net/v/20250408093512932\n",
    "\n",
    "K-관광 로드쇼, '국교 정상화 60주년' 일본인 역대 최다 방한 이룬다"
   ]
  },
  {
   "cell_type": "code",
   "execution_count": null,
   "id": "b7789111",
   "metadata": {},
   "outputs": [
    {
     "name": "stdout",
     "output_type": "stream",
     "text": [
      "https://news.daum.net/economy\n",
      "<class 'requests.models.Response'>\n",
      "200\n",
      "<class 'bs4.element.ResultSet'>\n",
      "https://v.daum.net/v/20250408210600644\n",
      "“경영 노하우 공유하는 특별한 경험”…매일경제-성남상의, 제7기 최고경영자과정 입학식 매일경제와 성남상공회의소가 8일 경기도 성남시 분당구 더블트리 바이 힐튼 서울 판교 1층 그랜드볼룸에서 ‘제7기 매일경제-성남상공회의소 최고경영자과정’ 입학식을 개최했다. 이날 행사는 정아영 MBN 아나운서가 사회를 맡았다. 입학식에는 정영배 성남상의 회장, 임상균 매경비즈 대표이사, 윤소라 성남상의 부회장, 정해정 성남상의 부회장(2기 원우회 사무총장), 매일경제 46분 전\n",
      "https://v.daum.net/v/20250408205853462\n",
      "가성비로 무장한 단체, 다시 제주로 간다” 수학여행부터 대만 인센티브까지.. ‘단체관광’이 살리는 제주 JIBS 53분 전\n",
      "https://v.daum.net/v/20250408204335126\n",
      "부동산 경기 활성화와 가계 부채 억제 사이, 새 정부 선택은?[정준호의 부동산과 사회경제] 경향신문 1시간 전\n",
      "https://v.daum.net/v/20250408184905360\n",
      "‘관세 직격탄’ 애플 주가 19% ‘뚝’… 갈수록 커지는 ‘T공포’ [관세전쟁 후폭풍] 세계일보 3시간 전\n",
      "https://v.daum.net/v/20250408183514025\n",
      "미·중 치킨게임…원화값 1473원대 추락, 글로벌 금융위기 후 최저 중앙일보 3시간 전\n",
      "https://v.daum.net/v/20250408175343664\n",
      "美·中 관세 폭탄 돌리기…‘새우등’ 한국 경제 불안감 더 커졌다 중앙일보 4시간 전\n",
      "https://v.daum.net/v/20250408175111585\n",
      "동영상     나랏빚 1175조 '역대 최대'…추경 재원 바닥 한국경제TV 4시간 전\n",
      "https://v.daum.net/v/20250408174344325\n",
      "메디젠휴먼케어, \"23andMe 파산..한국 유전체 산업의 위기 아닌 기회\" 머니투데이 4시간 전\n",
      "https://v.daum.net/v/20250408173713085\n",
      "칩 확보서 데이터센터까지···전 산업에 'AI 고속도로' 깔아야 서울경제 4시간 전\n"
     ]
    }
   ],
   "source": [
    "import requests\n",
    "import bs4\n",
    "from bs4 import BeautifulSoup\n",
    "\n",
    "req_param = {\"sid\": \"economy\"}\n",
    "\n",
    "url = \"https://news.daum.net/{sid}\".format(**req_param)\n",
    "print(url)  # https://news.daum.net/economy 출력\n",
    "\n",
    "req_header = {\n",
    "    \"user-agent\": \"Mozilla/5.0 (Windows NT 10.0; Win64; x64) AppleWebKit/537.36 (KHTML, like Gecko) Chrome/135.0.0.0 Safari/537.36\"\n",
    "}\n",
    "\n",
    "res = requests.get(url, headers=req_header)\n",
    "res.encoding = \"utf-8\"  # 글자깨짐 방지\n",
    "# print(res) # <Response [200]> 출력\n",
    "print(type(res))  # <class 'requests.models.Response'> 출력\n",
    "print(res.status_code)  # 200 출력\n",
    "# print(res.ok) # res.status_code==200일경우 True 출력\n",
    "\n",
    "if res.ok:\n",
    "    html = res.text\n",
    "    soup = BeautifulSoup(html, \"html.parser\")\n",
    "\n",
    "    # strong_tag_list = soup.select(\"div.cont_thumb strong.tit_txt\")\n",
    "    # a_tag_list = soup.select(\"div.cont_thumb a[href*='']\")\n",
    "    a_tag_list = soup.select(\"ul.list_newsheadline2 a[href*=v]\")\n",
    "\n",
    "    print(type(a_tag_list))  # <class 'bs4.element.ResultSet'> 출력\n",
    "\n",
    "    for a_tag in a_tag_list:\n",
    "        title = a_tag.text.strip()\n",
    "        link = a_tag[\"href\"]\n",
    "        print(link)\n",
    "        print(title)\n",
    "\n",
    "else:\n",
    "    print(f\"Error Code: {res.status_code}\")"
   ]
  },
  {
   "cell_type": "markdown",
   "id": "8e4b323c",
   "metadata": {},
   "source": [
    "2)\n",
    "    질문:  여러개의 section 중 하나를 선택해서 url에서 뉴스기사의 링크와 제목을 출력하는 코드를 함수로 작성하기\n",
    "    \n",
    "    # 경제 뉴스 URL\n",
    "    url = 'https://news.daum.net/economy'\n",
    "    # 사회 뉴스 URL\n",
    "    url = 'https://news.daum.net/society'\n",
    "\n",
    "    파일명: 01_news_scraping.ipynb\n",
    "    코드설명\n",
    "           \n",
    "           print_news() 함수에서 \n",
    "      section name (섹션명)을 입력 받아서 section_dict에서 section 영문 문자열을 추출해서    \n",
    "      url을 생성합니다.\n",
    "      그 이후의 코드는 1)번 문제와 동일합니다.\n",
    "\n",
    "section_dict = {'기후/환경':'climate','사회':'society','경제':'economy','정치':'politics',\\\n",
    "             '국재':'world','문화':'culture','생활':'life','IT/과학':'tech','인물':'people'}\n",
    "\n",
    "# 함수선언\n",
    "def print_news(section_name):\n",
    "\tpass\n",
    "\n",
    "# 함수호출\n",
    "print_news('경제')\n",
    "\tprint_news('사회')\n",
    "\n",
    "    실행결과: \n",
    "      print_news('경제')\n",
    "======> https://news.daum.net/economy 경제 뉴스 <======\n",
    "https://v.daum.net/v/20250408121010759\n",
    "\"아무도 대신 챙겨주지 않습니다\" 퇴직금으론 부족한 은퇴 후 삶 \"개인 연금 중요\"\n",
    "https://v.daum.net/v/20250408120010314\n",
    "한은 \"정년연장? 퇴직 후 재고용!\"…소득공백기 179만원 더 번다\n",
    "https://v.daum.net/v/20250408120000281\n",
    "지자체 대부업 자본금 요건 상향…개인 1억·법인 3억원으로\n",
    "\n",
    "print_news('인물')\n",
    "======> https://news.daum.net/people 인물 뉴스 <======\n",
    "https://v.daum.net/v/20250408092113275\n",
    "소쿠리를 소꼬리로 잘못 알아듣고… 몸보신 얘기에 웃음만발[사랑합니다]\n",
    "https://v.daum.net/v/20250408080901962\n",
    "한국 발레 전성기 만든 최태지가 아직도 꾸는 꿈\n",
    "https://v.daum.net/v/20250408080028797\n",
    "[MZ순경]’가만히 안아줄 수 있는 경찰 되고파’...시 쓰는 순경\n"
   ]
  },
  {
   "cell_type": "code",
   "execution_count": null,
   "id": "e7daec57",
   "metadata": {},
   "outputs": [
    {
     "name": "stdout",
     "output_type": "stream",
     "text": [
      "======>https://news.daum.net/economy 경제 뉴스 <======\n",
      "https://v.daum.net/v/20250408210600644\n",
      "“경영 노하우 공유하는 특별한 경험”…매일경제-성남상의, 제7기 최고경영자과정 입학식 매일경제와 성남상공회의소가 8일 경기도 성남시 분당구 더블트리 바이 힐튼 서울 판교 1층 그랜드볼룸에서 ‘제7기 매일경제-성남상공회의소 최고경영자과정’ 입학식을 개최했다. 이날 행사는 정아영 MBN 아나운서가 사회를 맡았다. 입학식에는 정영배 성남상의 회장, 임상균 매경비즈 대표이사, 윤소라 성남상의 부회장, 정해정 성남상의 부회장(2기 원우회 사무총장), 매일경제 46분 전\n",
      "https://v.daum.net/v/20250408205853462\n",
      "가성비로 무장한 단체, 다시 제주로 간다” 수학여행부터 대만 인센티브까지.. ‘단체관광’이 살리는 제주 JIBS 53분 전\n",
      "https://v.daum.net/v/20250408204335126\n",
      "부동산 경기 활성화와 가계 부채 억제 사이, 새 정부 선택은?[정준호의 부동산과 사회경제] 경향신문 1시간 전\n",
      "https://v.daum.net/v/20250408184905360\n",
      "‘관세 직격탄’ 애플 주가 19% ‘뚝’… 갈수록 커지는 ‘T공포’ [관세전쟁 후폭풍] 세계일보 3시간 전\n",
      "https://v.daum.net/v/20250408183514025\n",
      "미·중 치킨게임…원화값 1473원대 추락, 글로벌 금융위기 후 최저 중앙일보 3시간 전\n",
      "https://v.daum.net/v/20250408175343664\n",
      "美·中 관세 폭탄 돌리기…‘새우등’ 한국 경제 불안감 더 커졌다 중앙일보 4시간 전\n",
      "https://v.daum.net/v/20250408175111585\n",
      "동영상     나랏빚 1175조 '역대 최대'…추경 재원 바닥 한국경제TV 4시간 전\n",
      "https://v.daum.net/v/20250408174344325\n",
      "메디젠휴먼케어, \"23andMe 파산..한국 유전체 산업의 위기 아닌 기회\" 머니투데이 4시간 전\n",
      "https://v.daum.net/v/20250408173713085\n",
      "칩 확보서 데이터센터까지···전 산업에 'AI 고속도로' 깔아야 서울경제 4시간 전\n",
      "\n",
      "======>https://news.daum.net/people 인물 뉴스 <======\n",
      "https://v.daum.net/v/20250408175217633\n",
      "\"모든 보도는 본질적으로 탐사보도, 주변에 관심 가져야\" “거의 모든 보도는 본질적으로 탐사보도입니다. 간단한 사건·사고 기사라도 더 깊이 들어가 원인을 조사하면 탐사보도가 될 수 있습니다.” 미국 탐사보도기자협회(IRE)의 다이아나 푸엔테스 사무총장은 탐사보도팀이 해체되고 인력이 감축되는 최근의 현실에도 불구하고 탐사보도의 가치는 여전히 유효하다며 이렇게 말했다. 그는 “언뜻 보면 탐사보도가 후퇴하는 것처럼 기자협회보 4시간 전\n",
      "https://v.daum.net/v/20250408175038567\n",
      "기자·가수 겸업… 펜과 마이크로 방글라데시 삶 그리다 기자협회보 4시간 전\n",
      "https://v.daum.net/v/20250408173634060\n",
      "\"제자에 패한 뒤 무관 전락···부모상 같은 고통이었죠\" 서울경제 4시간 전\n",
      "https://v.daum.net/v/20250408162102294\n",
      "대장장이가 제 직업입니다, 저는 그게 자랑스럽습니다 오마이뉴스 6시간 전\n",
      "https://v.daum.net/v/20250408092113275\n",
      "소쿠리를 소꼬리로 잘못 알아듣고… 몸보신 얘기에 웃음만발[사랑합니다] 문화일보 13시간 전\n",
      "https://v.daum.net/v/20250408080901962\n",
      "한국 발레 전성기 만든 최태지가 아직도 꾸는 꿈 한국경제 14시간 전\n",
      "https://v.daum.net/v/20250408080028797\n",
      "[MZ순경]’가만히 안아줄 수 있는 경찰 되고파’...시 쓰는 순경 아시아경제 14시간 전\n",
      "https://v.daum.net/v/20250407200810079\n",
      "제69회 신문의 날 기념대회… \"신문 역할·책임 막중\" 대전일보 1일 전\n",
      "https://v.daum.net/v/20250407184235757\n",
      "경기일보 K-ECO팀 ‘발암물질 위의 아이들’ 한국신문상·최현호 정치부 차장 협회상 수상 경기일보 1일 전\n",
      "https://v.daum.net/v/20250408043126944\n",
      "[가만한 당신] 냉전 체스 판의 '폰'이기를 거부한 체스 챔프 레닌은 체스 마니아였다. 혁명 전쟁(내전) 와중에도  틈만 나면 체스로 머리를 식혔고, 대중 연설에서도 체스 용어로 혁명의 당위를 웅변하곤 했다. 1908년  막심 고리키의 망명지 이탈리아 카프리섬에서 고리키가 지켜보는 가운데 동지이자 정적인 , 09년 오스트리아 빈에서 히틀러와도 체스를 둔 정황이 히틀러의 미술 선생이던 유대계 체코 작가 로 확인되기도 했 한국일보 17시간 전\n",
      "https://v.daum.net/v/20250405050216058\n",
      "[단독] 언더우드의 110년 전 편지… “한국인은 고등 교육 받을 준비 돼 있다” 조선일보 4일 전\n",
      "https://v.daum.net/v/20250403060005274\n",
      "③목숨 건 ‘뿌리 찾기’···벽 앞에 울다[생사고투] 경향신문 6일 전\n",
      "https://v.daum.net/v/20250402164120082\n",
      "종교를 초월한 인연…‘인천 봉사왕’ 故장성철씨 49재 거행 이데일리 6일 전\n",
      "https://v.daum.net/v/20250402095023046\n",
      "2차대전 때 독일·일본軍 암호 푼 英 여성 비밀 요원 별세 세계일보 7일 전\n",
      "https://v.daum.net/v/20250408162102294\n",
      "대장장이가 제 직업입니다, 저는 그게 자랑스럽습니다 한국예술문화명인진흥회는 우리 조상의 유·무형 전통예술문화를 유지·발전시키고 명인들이 쌓아온 가치를 사회 자산으로 공유하기 위해 설립됐다. 현재 전국에 약 400명의 명인이 회원으로 등록되어 있는데 그중 충청지회 명인은 21인이다. 이 연재는 충청 지역에 흩어져 있는 명인 21인의 인터뷰다. 그들의 지난했던 삶을 조명함으로써 미래를 잇는 문화유산의 가치를 조 오마이뉴스 6시간 전\n",
      "\n"
     ]
    }
   ],
   "source": [
    "import requests\n",
    "import bs4\n",
    "\n",
    "section_dict = {\n",
    "    \"홈\": \"home\",\n",
    "    \"# 대선\": \"presidentialelection\",\n",
    "    \"기후/환경\": \"climate\",\n",
    "    \"사회\": \"society\",\n",
    "    \"경제\": \"economy\",\n",
    "    \"정치\": \"politics\",\n",
    "    \"국제\": \"world\",\n",
    "    \"문화\": \"culture\",\n",
    "    \"생활\": \"life\",\n",
    "    \"IT/과학\": \"tech\",\n",
    "    \"인물\": \"people\",\n",
    "    \"지식/칼럼\": \"understanding\",\n",
    "    \"연재\": \"series\",\n",
    "}\n",
    "\n",
    "\n",
    "def print_news(sid):\n",
    "    section = section_dict[sid]\n",
    "    # ======> https://news.daum.net/economy 경제 뉴스 <======\n",
    "    url = f\"https://news.daum.net/{section}\"\n",
    "    print(f\"======>{url} {sid} 뉴스 <======\")\n",
    "\n",
    "    req_header = {\n",
    "        \"user-agent\": \"Mozilla/5.0 (Windows NT 10.0; Win64; x64) AppleWebKit/537.36 (KHTML, like Gecko) Chrome/135.0.0.0 Safari/537.36\"\n",
    "    }\n",
    "\n",
    "    res = requests.get(url, headers=req_header)\n",
    "    res.encoding = \"UTF=8\"\n",
    "\n",
    "    if res.ok == True:\n",
    "        html = res.text\n",
    "        soup = bs4.BeautifulSoup(html, \"html.parser\")\n",
    "\n",
    "        a_tag_list = soup.select(\"ul.list_newsheadline2 a[href*='v']\")\n",
    "\n",
    "        for a_tag in a_tag_list:\n",
    "            title = a_tag.text.strip()\n",
    "            link = a_tag[\"href\"]\n",
    "\n",
    "            print(link)\n",
    "            print(title)\n",
    "        print()\n",
    "    else:\n",
    "        print(\"Error Code: \", res.status_code)\n",
    "\n",
    "\n",
    "print_news(\"경제\")\n",
    "\n",
    "print_news(\"인물\")"
   ]
  },
  {
   "cell_type": "markdown",
   "id": "116035d8",
   "metadata": {},
   "source": [
    "# 2. Nate 뉴스기사 제목 스크래핑하기 (선택)\n",
    "\n",
    "    https://news.nate.com/recent?mid=n0100\n",
    "\n",
    "    최신뉴스, 정치 , 경제, 사회, 세계, IT/과학 \n",
    "\n",
    "    6개의 섹션의 뉴스를 출력하는 함수를 생성하여 스크래핑 하기"
   ]
  },
  {
   "cell_type": "code",
   "execution_count": 48,
   "id": "86d80174",
   "metadata": {},
   "outputs": [
    {
     "name": "stdout",
     "output_type": "stream",
     "text": [
      "https://news.nate.com/recent?mid=n0100\n",
      "=====> 섹션 <=====\n",
      "=====> 최신뉴스 <=====\n",
      "=====> url <=====\n",
      "=====> https://news.nate.com/recent?mid=n0100 <=====\n",
      "------------------------------------\n",
      "링크\n",
      "https://news.nate.com/view/20250409n19743?mid=n0100\n",
      "제목\n",
      "美 상호관세 발효됐다…한국 25%, 중국 104%\n",
      "\t\t\t\t\t\t\t\t\t\t\t\t\t\t\t\t\t도널드 트럼프 미국 대통령이 8일 백악관에서 행정명령에 서명을 하고 있다. /로이터 연합뉴스중국이 모든 미국산 수입품에 대한 추가 관세율을 기존 34%에서 84%로 10일부...\n",
      "------------------------------------\n",
      "링크\n",
      "https://news.nate.com/view/20250409n41683?mid=n0100\n",
      "제목\n",
      "\"지금 매수해라\" 트럼프풋 나왔다…나스닥 1.6%↑\n",
      "\t\t\t\t\t\t\t\t\t\t\t\t\t\t\t\t\t[뉴욕=이데일리 김상윤 특파원] 미중이 서로 관세폭탄을 던지며 공포가 커진 가운데 9일(현지시간) 뉴욕증시가 오히려 상승세를 보이고 있다.9일(현지시간) 오전 10시20분 ...\n",
      "------------------------------------\n",
      "링크\n",
      "https://news.nate.com/view/20250409n18266?mid=n0100\n",
      "제목\n",
      "[바로이뉴스] \"동의 못해? 한 총리 말이었는데\" 딱 걸린 이완규 대답은…\n",
      "\t\t\t\t\t\t\t\t\t\t\t\t\t\t\t\t\t오늘(9일) 국회 법사위에서는 한덕수 대통령 권한대행의 헌법재판관 지명을 두고 직권남용 지적이 쏟아졌습니다. \n",
      "\n",
      "당사자인 이완규 법제처장은 정청래 법사위원장...\n",
      "------------------------------------\n",
      "링크\n",
      "https://news.nate.com/view/20250409n41718?mid=n0100\n",
      "제목\n",
      "美 104% vs 中 84%…극단으로 치닫는 무역전쟁(종합)\n",
      "\t\t\t\t\t\t\t\t\t\t\t\t\t\t\t\t\t핵심요약미국, 9일 0시부터 중국에 104% '폭탄 관세' 부과미국, 전면전 택한 중국 '본보기' 삼아 \"맞서지 마\"중국도 10일부터 84% '보복 관세' 부과해 맞대응중국, 내수 부...\n",
      "------------------------------------\n",
      "링크\n",
      "https://news.nate.com/view/20250409n41564?mid=n0100\n",
      "제목\n",
      "원희룡, 대선 불출마 선언…\"대통령 탄핵에 책임 있어\"\n",
      "\t\t\t\t\t\t\t\t\t\t\t\t\t\t\t\t\t원희룡 전 국토교통부 장관이 대선 불출마를 전격 선언했습니다.\n",
      "\n",
      "'6·3 대선'의 보수진영 후보로 거론됐던 원 전 장관은 오늘(9일) SNS에 글을 올려 \"지난 대선 ...\n",
      "------------------------------------\n",
      "링크\n",
      "https://news.nate.com/view/20250409n34325?mid=n0100\n",
      "제목\n",
      "美 관세협상 '투톱' 역할분담…'굿캅' 베선트 '배드캅' 그리어\n",
      "\t\t\t\t\t\t\t\t\t\t\t\t\t\t\t\t\t한덕수 대통령 권한대행 국무총리와 도널드 트럼프 미국 대통령이 첫 한미 정상 통화를 하고 정인교 통상교섭본부장이 미국을 방문하는 등 관세를 둘러싼 양국의 협상이 무...\n",
      "------------------------------------\n",
      "링크\n",
      "https://news.nate.com/view/20250409n41715?mid=n0100\n",
      "제목\n",
      "길은 불화설 일축→개리는 어떻게 지내나 봤더니…아내와 봄 만끽 '평화로운 일상' [MD★스타]\n",
      "\t\t\t\t\t\t\t\t\t\t\t\t\t\t\t\t\t개리 / 개리 인스타그램[마이데일리 = 김도형 기자] 2인조 힙합 그룹 리쌍 출신 개리의 일상이 눈길을 끌고 있다. 개리는 9일 자신의 소셜 계정을 통해 '느낌 좋은(느좋) ...\n",
      "------------------------------------\n",
      "링크\n",
      "https://news.nate.com/view/20250409n41713?mid=n0100\n",
      "제목\n",
      "EU도 15일부터 美 친다 최고 25% 보복관세 부과\n",
      "\t\t\t\t\t\t\t\t\t\t\t\t\t\t\t\t\t유럽연합(EU)이 15일(현지시간)부터 미국산 상품에 보복관세를 부과한다. 관세전쟁에 미국과 EU, 중국 등 세계 3대 경제 축이 모두 참전하게 됐다. EU 행정부 격인 집행위원회는 9일 성명을 내고 \"철강관세 보복 조...\n",
      "------------------------------------\n",
      "링크\n",
      "https://news.nate.com/view/20250409n34921?mid=n0100\n",
      "제목\n",
      "아세안무역 '脫미국·中밀월' 조짐\n",
      "\t\t\t\t\t\t\t\t\t\t\t\t\t\t\t\t\t도널드 트럼프 행정부의 관세정책이 미·중 갈등의 최전선인 아시아 지역의 '탈미국화'를 부추긴다는 우려가 나왔다. 전통적으로 미·중 양쪽에 중립 입장을 취해온 다수의 동남아시아 국가들이 중국에 보다 밀착하...\n",
      "------------------------------------\n",
      "링크\n",
      "https://news.nate.com/view/20250409n34932?mid=n0100\n",
      "제목\n",
      "월가 억만장자들 \"트럼프 관세에 경제 붕괴\"\n",
      "\t\t\t\t\t\t\t\t\t\t\t\t\t\t\t\t\t도널드 트럼프 행정부의 관세전쟁으로 인해 미국 경기 침체 우려가 확산하면서 경제학자들은 물론 주요 기업 최고경영자(CEO)들이 일제히 강한 분노를 표출하고 있다. 지난...\n",
      "------------------------------------\n",
      "링크\n",
      "https://news.nate.com/view/20250409n41250?mid=n0100\n",
      "제목\n",
      "소유진, 망신살 제대로 뻗쳤다···대변 못 참고 실례('빌런의 나라')\n",
      "\t\t\t\t\t\t\t\t\t\t\t\t\t\t\t\t\t[OSEN=오세진 기자] ‘빌런의 나라’ 소유진이 오나라를 이겨 보려고 했다가 끝내 실례했다.9일 방영한 KBS2TV 수목시트콤 ‘빌런의 나라’(연출 김영조, 최정은, 극본 채...\n",
      "------------------------------------\n",
      "링크\n",
      "https://news.nate.com/view/20250409n34648?mid=n0100\n",
      "제목\n",
      "매머드급 정책자문단…이한주·유종일·김현종이 '삼두마차'\n",
      "\t\t\t\t\t\t\t\t\t\t\t\t\t\t\t\t\t'이재명 시대'를 준비하는 또 다른 축은 전문가 그룹이다. 모든 대권 도전자는 분야별 전문가들에게 정책 조언을 듣는다. 다만 이재명 전 더불어민주당 대표의 자문그룹은 '변방'에서 내공을 다져온 이력과 겹치면서...\n",
      "------------------------------------\n",
      "링크\n",
      "https://news.nate.com/view/20250409n41692?mid=n0100\n",
      "제목\n",
      "서정진 회장 '핫라인' 쟁취한 카이스트 학생의 패기 \"질문있습니다!\"\n",
      "\t\t\t\t\t\t\t\t\t\t\t\t\t\t\t\t\t[헤럴드경제(대전)=최은지 기자] “서정진 회장님께 질문하신 분 손들어주세요” 9일 대전 카이스트(KAIST) 류근철 스포츠컴플렉스. 헤럴드미디어그룹 주최로 열린 ‘이노베이트 코리아 2025’에서 서정진 셀트리온 ...\n",
      "------------------------------------\n",
      "링크\n",
      "https://news.nate.com/view/20250409n30301?mid=n0100\n",
      "제목\n",
      "[단독] LIG넥스원, 돌연 비상경영…1천억 환손실에 발목 [방산인사이드]\n",
      "\t\t\t\t\t\t\t\t\t\t\t\t\t\t\t\t\t<앵커> 사상 최대 실적을 기록한 LG넥스원이 1천억 원 넘는 환손실로 비상경영에 들어갔습니다. 한국경제TV 취재 결과 LIG넥스원 경영진은 어제 1천여 명의 직원을 ...\n",
      "------------------------------------\n",
      "링크\n",
      "https://news.nate.com/view/20250409n38895?mid=n0100\n",
      "제목\n",
      "中, 트럼프 104% 관세에 반격…\"미국산 관세 34%에서 84%로\"\n",
      "\t\t\t\t\t\t\t\t\t\t\t\t\t\t\t\t\t지난 3일(현지 시각) 중국 홍콩 콰이충 항구 터미널에 쌓여 있는 컨테이너. /로이터 연합뉴스도널드 트럼프 미국 대통령이 중국에 총 104%의 관세 폭탄을 던진 가운데 중국...\n",
      "------------------------------------\n",
      "링크\n",
      "https://news.nate.com/view/20250409n41705?mid=n0100\n",
      "제목\n",
      "'경기 영상 SNS에 올리지 마세요' 2025년에 SNS 통제가 웬말…日선수회, NPB에 반발\n",
      "\t\t\t\t\t\t\t\t\t\t\t\t\t\t\t\t\t[스포티비뉴스=신원철 기자] 올해부터는 일본 여행을 하다 프로야구 경기장에 가더라도 경기 영상을 SNS에 올리는 일은 조심해야 한다. NPB(일본야구기구)가 2월 1일 발표...\n",
      "------------------------------------\n",
      "링크\n",
      "https://news.nate.com/view/20250409n41703?mid=n0100\n",
      "제목\n",
      "김옥빈 맞아? 레게머리에 구릿빛 피부…확 달라진 이미지\n",
      "\t\t\t\t\t\t\t\t\t\t\t\t\t\t\t\t\t[스포츠조선닷컴 이게은기자] 배우 김옥빈이 확 달라진 비주얼을 자랑했다.9일 김옥빈은 \"내 머리 어때\"라며 해외여행 중인 근황을 전했다.김옥빈은 동생 채서진과 여행을 ...\n",
      "------------------------------------\n",
      "링크\n",
      "https://news.nate.com/view/20250409n41702?mid=n0100\n",
      "제목\n",
      "[사설]한미 정상 지각 통화…조바심에 '안 내줄 것 내주는 일' 없어야\n",
      "\t\t\t\t\t\t\t\t\t\t\t\t\t\t\t\t\t한덕수 대통령 권한대행이 8일 도널드 트럼프 미국 대통령과 통상 문제 등과 관련해 통화했다. 한 대행은 “양국이 ‘윈윈’ 하길 희망한다”고 했고, 트럼프 대통령은 통...\n",
      "------------------------------------\n",
      "링크\n",
      "https://news.nate.com/view/20250409n41699?mid=n0100\n",
      "제목\n",
      "'긴장 풀리니 터지는 입담' 김태연 \"원동력? 母 채찍에 마인드 컨트롤\"\n",
      "\t\t\t\t\t\t\t\t\t\t\t\t\t\t\t\t\t김태연 / 마이데일리 #김태연 #설레임 #앵콜 '긴장 풀리니 터지는 입담' 김태연 \"원동력? 母 채찍에 마인드 컨트롤\" ▶홈페이지 - www.mydaily.co.kr ▶유튜브 - www.youtu...\n",
      "------------------------------------\n",
      "링크\n",
      "https://news.nate.com/view/20250409n40886?mid=n0100\n",
      "제목\n",
      "中,美국채 매도중? 30년국채 40년만에 최대 폭락\n",
      "\t\t\t\t\t\t\t\t\t\t\t\t\t\t\t\t\t이 기사는 국내 최대 해외 투자정보 플랫폼 한경 글로벌마켓에 게재된 기사입니다.사진=AFP미국채 매도가 가속화되고 있어 30년 만기 국채 금리가 40년만에 가장 큰 폭으로...\n",
      "------------------------------------\n"
     ]
    }
   ],
   "source": [
    "import requests\n",
    "from bs4 import BeautifulSoup\n",
    "\n",
    "section_dict = {\n",
    "    \"최신뉴스\": \"recent?mid=n0100\",\n",
    "    \"정치\": \"section?mid=n0200\",\n",
    "    \"경제\": \"section?mid=n0300\",\n",
    "    \"사회\": \"section?mid=n0400\",\n",
    "    \"세계\": \"section?mid=n0500\",\n",
    "    \"IT/과학\": \"section?mid=n0600\",\n",
    "}\n",
    "\n",
    "\n",
    "def print_news(sid):\n",
    "    section = section_dict[sid]\n",
    "\n",
    "    url = f\"https://news.nate.com/{section}\"\n",
    "\n",
    "    print(url)\n",
    "    print(\"=====> 섹션 <=====\")\n",
    "    print(f\"=====> {sid} <=====\")\n",
    "    print(\"=====> url <=====\")\n",
    "    print(f\"=====> {url} <=====\")\n",
    "    print(\"------------------------------------\")\n",
    "    req_header = {\n",
    "        \"user-agent\": \"Mozilla/5.0 (Windows NT 10.0; Win64; x64) AppleWebKit/537.36 (KHTML, like Gecko) Chrome/135.0.0.0 Safari/537.36\"\n",
    "    }\n",
    "\n",
    "    # requests.get()\n",
    "    res = requests.get(url, headers=req_header)\n",
    "    # res.encoding = 'UTF-8'\n",
    "\n",
    "    if res.ok == True:\n",
    "        html = res.text\n",
    "\n",
    "        soup = BeautifulSoup(html, \"html.parser\", from_encoding=\"utf-8\")\n",
    "\n",
    "        a_list = soup.select(\"div.postSubjectContent a[href*='view']\")\n",
    "\n",
    "        for a in a_list:\n",
    "            title = a.text.strip()\n",
    "            link = \"https:\" + a[\"href\"]\n",
    "\n",
    "            print(\"링크\")\n",
    "            print(link)\n",
    "\n",
    "            print(\"제목\")\n",
    "            print(title)\n",
    "\n",
    "            print(\"------------------------------------\")\n",
    "\n",
    "    else:\n",
    "        print(\"에러코드: {}\".format(res.status_code))\n",
    "\n",
    "\n",
    "print_news(\"최신뉴스\")"
   ]
  },
  {
   "cell_type": "code",
   "execution_count": null,
   "id": "a4ef2d7d",
   "metadata": {},
   "outputs": [],
   "source": []
  },
  {
   "cell_type": "markdown",
   "id": "89342bb0",
   "metadata": {},
   "source": [
    "# 2-1. Nate 뉴스기사 제목 스크래핑하기 (필수)\n",
    "\n",
    "연습문제는 수요일 밤 12시까지 제출해 주세요.\n",
    "\n",
    "https://news.nate.com/recent?mid=n0100\n",
    "\n",
    "최신뉴스, 정치 , 경제, 사회, 세계, IT/과학 \n",
    "\n",
    "6개의 섹션의 뉴스를 출력하는 함수를 생성하여 스크래핑 하기\n",
    "\n",
    "Image, 기사제목, 기사링크\n",
    "\n",
    "뉴스기사의 Image를 출력 하세요 \n",
    "\n",
    "1) Image의 절대경로와 상대 경로를 합치려면 urljoin 함수를 사용하세요.\n",
    "\n",
    "    from urllib.parse import urljoin\n",
    "\n",
    "2) Image 출력은 Image 클래스와 display 함수를 사용하세요.\n",
    "\n",
    "    from IPython.display import Image, display\n",
    "\n",
    "3) img 엘리먼트의 존재 여부를 체크하신 후에 src 속성의 이미지를 경로를 추출하기\n",
    "\n",
    "  => Image 가 없는 뉴스도 있기 때문에 \n"
   ]
  },
  {
   "cell_type": "code",
   "execution_count": 51,
   "id": "8f9cff73",
   "metadata": {},
   "outputs": [
    {
     "name": "stdout",
     "output_type": "stream",
     "text": [
      "URL:  https://news.nate.com/\n",
      "Section:  IT/과학 섹션\n",
      "------------------------------------\n",
      "IT/과학섹션 URL: https://news.nate.com/section?mid=n0600\n",
      "------------------------------------\n",
      "res.status_code: 200\n",
      "------------------------------------\n",
      "IT/과학 섹션 기사 갯수: 0개\n",
      "------------------------------------\n",
      "URL:  https://news.nate.com/\n",
      "Section:  최신뉴스 섹션\n",
      "------------------------------------\n",
      "최신뉴스섹션 URL: https://news.nate.com/recent?mid=n0100\n",
      "------------------------------------\n",
      "res.status_code: 200\n",
      "------------------------------------\n",
      "최신뉴스 섹션 기사 갯수: 20개\n",
      "------------------------------------\n"
     ]
    },
    {
     "name": "stderr",
     "output_type": "stream",
     "text": [
      "c:\\Users\\user\\anaconda3\\Lib\\site-packages\\bs4\\__init__.py:228: UserWarning: You provided Unicode markup but also provided a value for from_encoding. Your from_encoding will be ignored.\n",
      "  warnings.warn(\"You provided Unicode markup but also provided a value for from_encoding. Your from_encoding will be ignored.\")\n"
     ]
    },
    {
     "data": {
      "text/html": [
       "<img src=\"https://thumbnews.nateimg.co.kr/news90///news.nateimg.co.kr/orgImg/sp/2025/04/09/news-p.v1.20250409.64e775beb4e147e08db483d5476c645c_P1.jpg\"/>"
      ],
      "text/plain": [
       "<IPython.core.display.Image object>"
      ]
     },
     "metadata": {},
     "output_type": "display_data"
    },
    {
     "name": "stdout",
     "output_type": "stream",
     "text": [
      "a_tag['href']\n",
      "//news.nate.com/view/20250409n41783?mid=n0100\n",
      "link\n",
      "https://news.nate.com/view/20250409n41783?mid=n0100\n",
      "title\n",
      "서희원 떠난지 두달…구준엽의 침묵, 왕소비는 웨딩마치\n",
      "\t\t\t\t\t\t\t\t\t\t\t\t\t\t\t\t\t중국QQ뉴스 캡처 구준엽SNS [스포츠서울 | 배우근 기자] 고(故) 서희원이 세상을 떠난 지 두달이 지나간다. 그를 떠나보낸 두 남자의 시간이 전혀 다른 속도로 흐르고 있다...\n"
     ]
    },
    {
     "data": {
      "text/html": [
       "<img src=\"https://thumbnews.nateimg.co.kr/news90///news.nateimg.co.kr/orgImg/mk/2025/04/09/20250410_01170103000001_L00.jpg\"/>"
      ],
      "text/plain": [
       "<IPython.core.display.Image object>"
      ]
     },
     "metadata": {},
     "output_type": "display_data"
    },
    {
     "name": "stdout",
     "output_type": "stream",
     "text": [
      "a_tag['href']\n",
      "//news.nate.com/view/20250409n41782?mid=n0100\n",
      "link\n",
      "https://news.nate.com/view/20250409n41782?mid=n0100\n",
      "title\n",
      "시진핑 \"주변국과 운명공동체 구축\"…'反트럼프' 우군확보 나섰다\n",
      "\t\t\t\t\t\t\t\t\t\t\t\t\t\t\t\t\t중국이 또다시 패키지 보복 조치로 맞불을 놨다. 미국이 중국산 수입품에 총 104%의 관세를 부과한 당일 △맞불 관세 △기업 제재 △수출통제 카드를 꺼낸 것이다. 미국의 ...\n"
     ]
    },
    {
     "data": {
      "text/html": [
       "<img src=\"https://thumbnews.nateimg.co.kr/news90///news.nateimg.co.kr/orgImg/xs/2025/04/09/1744209339617624.png\"/>"
      ],
      "text/plain": [
       "<IPython.core.display.Image object>"
      ]
     },
     "metadata": {},
     "output_type": "display_data"
    },
    {
     "name": "stdout",
     "output_type": "stream",
     "text": [
      "a_tag['href']\n",
      "//news.nate.com/view/20250409n41780?mid=n0100\n",
      "link\n",
      "https://news.nate.com/view/20250409n41780?mid=n0100\n",
      "title\n",
      "'3부리거' 백승호 신화 쓴다! 150년사 최초 대기록 도전…버밍엄 사상 첫 '백투백 승격' 이룬다\n",
      "\t\t\t\t\t\t\t\t\t\t\t\t\t\t\t\t\t(엑스포츠뉴스 김환 기자) 백승호가 150년 역사 최초의 기록에 도전하는 버밍엄 시티의 여정에 함께한다. 이번 시즌이 끝나기 전 이미 잉글랜드 챔피언십(2부리그) 승격을 ...\n"
     ]
    },
    {
     "data": {
      "text/html": [
       "<img src=\"https://thumbnews.nateimg.co.kr/news90///news.nateimg.co.kr/orgImg/na/2025/04/09/5810684_high.jpg\"/>"
      ],
      "text/plain": [
       "<IPython.core.display.Image object>"
      ]
     },
     "metadata": {},
     "output_type": "display_data"
    },
    {
     "name": "stdout",
     "output_type": "stream",
     "text": [
      "a_tag['href']\n",
      "//news.nate.com/view/20250409n41779?mid=n0100\n",
      "link\n",
      "https://news.nate.com/view/20250409n41779?mid=n0100\n",
      "title\n",
      "중국 교육부, 미국 오하이오주 유학 경보 발령\n",
      "\t\t\t\t\t\t\t\t\t\t\t\t\t\t\t\t\t중국인 유학생들. <자료 사진>2020.07.04/뉴스1 ⓒ 로이터=뉴스1 ⓒ News1 김민수 기자 (서울=뉴스1) 권영미 기자 = 중국 교육부가 9일 미국 일부 지역의 유학을 계...\n"
     ]
    },
    {
     "data": {
      "text/html": [
       "<img src=\"https://thumbnews.nateimg.co.kr/news90///news.nateimg.co.kr/orgImg/ey/2025/04/09/20250409233900_2158632_1200_2662.jpg\"/>"
      ],
      "text/plain": [
       "<IPython.core.display.Image object>"
      ]
     },
     "metadata": {},
     "output_type": "display_data"
    },
    {
     "name": "stdout",
     "output_type": "stream",
     "text": [
      "a_tag['href']\n",
      "//news.nate.com/view/20250409n41778?mid=n0100\n",
      "link\n",
      "https://news.nate.com/view/20250409n41778?mid=n0100\n",
      "title\n",
      "'라디오스타' 황동주, 이영자와 '결혼' 질문에 난감…\"방송서 마음 표현은 실례\"\n",
      "\t\t\t\t\t\t\t\t\t\t\t\t\t\t\t\t\t[이투데이/한은수](출처=MBC '라디오스타' 캡처)배우 황동주가 이영자에 대한 깊은 마음을 드러냈다.9일 방송된 MBC ‘라디오스타’는 ‘설렘 급상승 동영상’ 특집으로 진...\n"
     ]
    },
    {
     "data": {
      "text/html": [
       "<img src=\"https://thumbnews.nateimg.co.kr/news90///news.nateimg.co.kr/orgImg/na/2025/04/09/2614088_article.jpg\"/>"
      ],
      "text/plain": [
       "<IPython.core.display.Image object>"
      ]
     },
     "metadata": {},
     "output_type": "display_data"
    },
    {
     "name": "stdout",
     "output_type": "stream",
     "text": [
      "a_tag['href']\n",
      "//news.nate.com/view/20250409n41580?mid=n0100\n",
      "link\n",
      "https://news.nate.com/view/20250409n41580?mid=n0100\n",
      "title\n",
      "공공건설수주 76% 뚝…원주시, 민간 공사 일감 찾아 지역 업체 지원\n",
      "\t\t\t\t\t\t\t\t\t\t\t\t\t\t\t\t\tⓒ News1 DB (강원=뉴스1) 신관호 기자 = 강원 건설사들의 관급공사 수주규모가 계속 줄어들고 있다. 이런 가운데 도내 주요 건설사가 소재한 원주시는 시내 민간 대형공사...\n"
     ]
    },
    {
     "data": {
      "text/html": [
       "<img src=\"https://thumbnews.nateimg.co.kr/news90///news.nateimg.co.kr/orgImg/ch/2025/04/09/ch_1744209665079_492591_0.jpg\"/>"
      ],
      "text/plain": [
       "<IPython.core.display.Image object>"
      ]
     },
     "metadata": {},
     "output_type": "display_data"
    },
    {
     "name": "stdout",
     "output_type": "stream",
     "text": [
      "a_tag['href']\n",
      "//news.nate.com/view/20250409n30185?mid=n0100\n",
      "link\n",
      "https://news.nate.com/view/20250409n30185?mid=n0100\n",
      "title\n",
      "서울~부산 20분…시속 1200㎞ '하이퍼 튜브' 개발 착수\n",
      "\t\t\t\t\t\t\t\t\t\t\t\t\t\t\t\t\t국토교통부가 ‘철로 위 비행기’라 불리는 차세대 초고속 교통수단 ‘하이퍼 튜브’의 핵심 기술 개발에 착수한다고 9일 밝혔다. 하이퍼튜브는 진공에 가까운 아진공(기압...\n"
     ]
    },
    {
     "data": {
      "text/html": [
       "<img src=\"https://thumbnews.nateimg.co.kr/news90///news.nateimg.co.kr/orgImg/ed/2025/04/09/PS25040901580.jpg\"/>"
      ],
      "text/plain": [
       "<IPython.core.display.Image object>"
      ]
     },
     "metadata": {},
     "output_type": "display_data"
    },
    {
     "name": "stdout",
     "output_type": "stream",
     "text": [
      "a_tag['href']\n",
      "//news.nate.com/view/20250409n41683?mid=n0100\n",
      "link\n",
      "https://news.nate.com/view/20250409n41683?mid=n0100\n",
      "title\n",
      "\"지금 매수해라\" 트럼프풋 나왔다…나스닥 1.6%↑\n",
      "\t\t\t\t\t\t\t\t\t\t\t\t\t\t\t\t\t[뉴욕=이데일리 김상윤 특파원] 미중이 서로 관세폭탄을 던지며 공포가 커진 가운데 9일(현지시간) 뉴욕증시가 오히려 상승세를 보이고 있다.9일(현지시간) 오전 10시20분 ...\n"
     ]
    },
    {
     "data": {
      "text/html": [
       "<img src=\"https://thumbnews.nateimg.co.kr/news90///news.nateimg.co.kr/orgImg/dn/2025/04/09/news_1744053748_1482648_m_1.png\"/>"
      ],
      "text/plain": [
       "<IPython.core.display.Image object>"
      ]
     },
     "metadata": {},
     "output_type": "display_data"
    },
    {
     "name": "stdout",
     "output_type": "stream",
     "text": [
      "a_tag['href']\n",
      "//news.nate.com/view/20250409n41774?mid=n0100\n",
      "link\n",
      "https://news.nate.com/view/20250409n41774?mid=n0100\n",
      "title\n",
      "EU, 美 수입품에 25% 보복 관세…\"대부분 공화당 텃밭 생산품\"\n",
      "\t\t\t\t\t\t\t\t\t\t\t\t\t\t\t\t\t독일 프랑크푸르트 증권거래소 건물에 유럽연합(EU) 깃발에 검은 리본이 묶여 있다.ⓒAP/뉴시스 유럽연합(EU)이 미국의 철강·알루미늄 관세에 맞서 일부 미국산 수입품에 ...\n"
     ]
    },
    {
     "data": {
      "text/html": [
       "<img src=\"https://thumbnews.nateimg.co.kr/news90///news.nateimg.co.kr/orgImg/hk/2025/04/09/99.35280340.1.jpg\"/>"
      ],
      "text/plain": [
       "<IPython.core.display.Image object>"
      ]
     },
     "metadata": {},
     "output_type": "display_data"
    },
    {
     "name": "stdout",
     "output_type": "stream",
     "text": [
      "a_tag['href']\n",
      "//news.nate.com/view/20250409n41773?mid=n0100\n",
      "link\n",
      "https://news.nate.com/view/20250409n41773?mid=n0100\n",
      "title\n",
      "7월부터 비둘기 먹이 주다가 적발되면…과태료 최대 100만원\n",
      "\t\t\t\t\t\t\t\t\t\t\t\t\t\t\t\t\t/사진 = 게티이미지뱅크오는 7월부터 한강공원, 서울숲 등지에서 비둘기, 까치 등 유해야생동물에 먹이를 주다가 적발되면 최대 100만원의 과태료가 부과된다.9일 서울시는...\n"
     ]
    },
    {
     "data": {
      "text/html": [
       "<img src=\"https://thumbnews.nateimg.co.kr/news90///news.nateimg.co.kr/orgImg/do/2025/04/09/131384939.2.jpg\"/>"
      ],
      "text/plain": [
       "<IPython.core.display.Image object>"
      ]
     },
     "metadata": {},
     "output_type": "display_data"
    },
    {
     "name": "stdout",
     "output_type": "stream",
     "text": [
      "a_tag['href']\n",
      "//news.nate.com/view/20250409n41772?mid=n0100\n",
      "link\n",
      "https://news.nate.com/view/20250409n41772?mid=n0100\n",
      "title\n",
      "EU, 15일부터 美 수입품에 최고 25％ 추가 관세\n",
      "\t\t\t\t\t\t\t\t\t\t\t\t\t\t\t\t\t유럽연합(EU)이 이달 15일부터 미국산 수입품에 최대 25%의 추가 관세를 부과하기로 했다. 이는 미국이 유럽산 철강과 알루미늄 등에 고율 관세를 부과한 데 대한 보복 조...\n"
     ]
    },
    {
     "data": {
      "text/html": [
       "<img src=\"https://thumbnews.nateimg.co.kr/news90///news.nateimg.co.kr/orgImg/tr/2025/04/09/1415c267-ed45-4b95-bd76-1601b79bb0d1.jpg\"/>"
      ],
      "text/plain": [
       "<IPython.core.display.Image object>"
      ]
     },
     "metadata": {},
     "output_type": "display_data"
    },
    {
     "name": "stdout",
     "output_type": "stream",
     "text": [
      "a_tag['href']\n",
      "//news.nate.com/view/20250409n41770?mid=n0100\n",
      "link\n",
      "https://news.nate.com/view/20250409n41770?mid=n0100\n",
      "title\n",
      "엑소, 13주년 팬미팅에 '첸백시' 참석할까…완전체 불투명\n",
      "\t\t\t\t\t\t\t\t\t\t\t\t\t\t\t\t\t[TV리포트=한수지 기자] 그룹 엑소(EXO)가 데뷔 13주년 기념 라이브 방송을 통해 팬미팅을 예고한 가운데, 첸백시 참여 여부에 이목이 집중되고 있다. 엑소는 8일 오후 8시...\n"
     ]
    },
    {
     "data": {
      "text/html": [
       "<img src=\"https://thumbnews.nateimg.co.kr/news90///news.nateimg.co.kr/orgImg/ns/2025/04/09/NISI20250409_0001813818_web.jpg\"/>"
      ],
      "text/plain": [
       "<IPython.core.display.Image object>"
      ]
     },
     "metadata": {},
     "output_type": "display_data"
    },
    {
     "name": "stdout",
     "output_type": "stream",
     "text": [
      "a_tag['href']\n",
      "//news.nate.com/view/20250409n41769?mid=n0100\n",
      "link\n",
      "https://news.nate.com/view/20250409n41769?mid=n0100\n",
      "title\n",
      "주한미군사령관 \"한반도 안보, 美국익과 직결…적대국 억제\"\n",
      "\t\t\t\t\t\t\t\t\t\t\t\t\t\t\t\t\t[워싱턴=뉴시스]제이비어 브런슨 주한미군사령관(한미연합사령관 및 유엔사령관 겸임)은 9일(현지 시간) 미국 워싱턴DC에서 열린 미 하원 군사위원회 청문회에서 발언하고 ...\n"
     ]
    },
    {
     "data": {
      "text/html": [
       "<img src=\"https://thumbnews.nateimg.co.kr/news90///news.nateimg.co.kr/orgImg/iz/2025/04/09/305bff7a-0d30-4671-bfb8-33ad7660af22.png\"/>"
      ],
      "text/plain": [
       "<IPython.core.display.Image object>"
      ]
     },
     "metadata": {},
     "output_type": "display_data"
    },
    {
     "name": "stdout",
     "output_type": "stream",
     "text": [
      "a_tag['href']\n",
      "//news.nate.com/view/20250409n41768?mid=n0100\n",
      "link\n",
      "https://news.nate.com/view/20250409n41768?mid=n0100\n",
      "title\n",
      "'유퀴즈' 유재석, 의성 산불 '성묘객 실화'에 \"화가 나\"\n",
      "\t\t\t\t\t\t\t\t\t\t\t\t\t\t\t\t\t유재석이 성묘객 실화로 인한 의성 산불에 분노를 표했다. 9일 방송된 tvN '유 퀴즈 온 더 블럭'에는 사상 최대 규모 산불 현장에서 화마와 싸운 산불재난특수진화대 김우...\n"
     ]
    },
    {
     "data": {
      "text/html": [
       "<img src=\"https://thumbnews.nateimg.co.kr/news90///news.nateimg.co.kr/orgImg/nn/2025/04/09/202504092025166110_1.jpg\"/>"
      ],
      "text/plain": [
       "<IPython.core.display.Image object>"
      ]
     },
     "metadata": {},
     "output_type": "display_data"
    },
    {
     "name": "stdout",
     "output_type": "stream",
     "text": [
      "a_tag['href']\n",
      "//news.nate.com/view/20250409n41762?mid=n0100\n",
      "link\n",
      "https://news.nate.com/view/20250409n41762?mid=n0100\n",
      "title\n",
      "김국진 \"♥강수지에 내가 고백\" 이영자와 관계 망설이는 황동주에 조언(라스)\n",
      "\t\t\t\t\t\t\t\t\t\t\t\t\t\t\t\t\t[뉴스엔 서유나 기자] 방송인 김국진이 방송인 이영자와의 관계 발전을 두고 망설이는 배우 황동주에게 진심어린 조언을 건넸다. 4월 9일 방송된 MBC 예능 '라디오스타'(이...\n"
     ]
    },
    {
     "data": {
      "text/html": [
       "<img src=\"https://thumbnews.nateimg.co.kr/news90///news.nateimg.co.kr/orgImg/ez/2025/04/09/20250409233806_2158631_936_527.jpg\"/>"
      ],
      "text/plain": [
       "<IPython.core.display.Image object>"
      ]
     },
     "metadata": {},
     "output_type": "display_data"
    },
    {
     "name": "stdout",
     "output_type": "stream",
     "text": [
      "a_tag['href']\n",
      "//news.nate.com/view/20250409n41760?mid=n0100\n",
      "link\n",
      "https://news.nate.com/view/20250409n41760?mid=n0100\n",
      "title\n",
      "'커플팰리스2', 황재근&서진주 현커 불발→김지웅&김하연·이정원&오승연·김현중&임시연 최커 성공\n",
      "\t\t\t\t\t\t\t\t\t\t\t\t\t\t\t\t\t[비즈엔터/홍지훈 기자]'커플팰리스2' 서진주(사진=Mnet 방송화면 캡처)'커플팰리스2' 마지막회에서 황재근&서진주 커플은 현커가 되지 못했고, 김지웅&김하연, 이정원&오...\n"
     ]
    },
    {
     "data": {
      "text/html": [
       "<img src=\"https://thumbnews.nateimg.co.kr/news90///news.nateimg.co.kr/orgImg/is/2025/04/09/isp20250409000504.761x.0.png\"/>"
      ],
      "text/plain": [
       "<IPython.core.display.Image object>"
      ]
     },
     "metadata": {},
     "output_type": "display_data"
    },
    {
     "name": "stdout",
     "output_type": "stream",
     "text": [
      "a_tag['href']\n",
      "//news.nate.com/view/20250409n41759?mid=n0100\n",
      "link\n",
      "https://news.nate.com/view/20250409n41759?mid=n0100\n",
      "title\n",
      "[TVis] 이시안, '솔지4' 위해 이 정도 독기…\"등 파인 옷, 다 보여줄 수도\" (라스)\n",
      "\t\t\t\t\t\t\t\t\t\t\t\t\t\t\t\t\t사진=MBC 예능 ‘라디오스타’ 캡처모델 이시안이 ‘솔로지옥4’ 사전 미팅 당시 독기 어린 준비 과정을 떠올렸다.9일 방송된 MBC 예능 ‘라디오스타’는 우희진, 황동주, ...\n"
     ]
    },
    {
     "data": {
      "text/html": [
       "<img src=\"https://thumbnews.nateimg.co.kr/news90///news.nateimg.co.kr/orgImg/pt/2025/04/09/202504092336778432_67f68630394a1.jpg\"/>"
      ],
      "text/plain": [
       "<IPython.core.display.Image object>"
      ]
     },
     "metadata": {},
     "output_type": "display_data"
    },
    {
     "name": "stdout",
     "output_type": "stream",
     "text": [
      "a_tag['href']\n",
      "//news.nate.com/view/20250409n41758?mid=n0100\n",
      "link\n",
      "https://news.nate.com/view/20250409n41758?mid=n0100\n",
      "title\n",
      "이시안, '솔로지옥4' 출연 위해 이렇게까지? \"등 파인 블랙탑 입고 플러팅\" ('라스')\n",
      "\t\t\t\t\t\t\t\t\t\t\t\t\t\t\t\t\t[OSEN=김예솔 기자] 모델 이시안이 '솔로지옥4' 출연 전 플러팅을 했다고 말했다. 9일 방송된 MBC '라디오스타'에서는 모델 이시안이 '솔로지옥4' 출연 전 미팅에 대해 이...\n"
     ]
    },
    {
     "data": {
      "text/html": [
       "<img src=\"https://thumbnews.nateimg.co.kr/news90///news.nateimg.co.kr/orgImg/hi/2025/04/09/e78e2926-db22-4f0d-8fd8-b7c5cf621b97.jpg\"/>"
      ],
      "text/plain": [
       "<IPython.core.display.Image object>"
      ]
     },
     "metadata": {},
     "output_type": "display_data"
    },
    {
     "name": "stdout",
     "output_type": "stream",
     "text": [
      "a_tag['href']\n",
      "//news.nate.com/view/20250409n38834?mid=n0100\n",
      "link\n",
      "https://news.nate.com/view/20250409n38834?mid=n0100\n",
      "title\n",
      "중국 \"10일부터 모든 미국산 수입품 추가 관세 34→84%\"\n",
      "\t\t\t\t\t\t\t\t\t\t\t\t\t\t\t\t\t미국 보복 관세에 추가 보복중국이 미국의 보복관세 84%에 대한 맞불 관세로 50%의 관세를 추가로 부과하겠다고 9일 밝혔다. 중국 정부는 이날 \"10일 오후 12시 1분부터 미...\n"
     ]
    },
    {
     "data": {
      "text/html": [
       "<img src=\"https://thumbnews.nateimg.co.kr/news90///news.nateimg.co.kr/orgImg/cz/2025/04/09/cz_1744209424591_15838_0.jpg\"/>"
      ],
      "text/plain": [
       "<IPython.core.display.Image object>"
      ]
     },
     "metadata": {},
     "output_type": "display_data"
    },
    {
     "name": "stdout",
     "output_type": "stream",
     "text": [
      "a_tag['href']\n",
      "//news.nate.com/view/20250409n41756?mid=n0100\n",
      "link\n",
      "https://news.nate.com/view/20250409n41756?mid=n0100\n",
      "title\n",
      "뉴욕 증시, 104% vs 84% 미중 보복관세에 혼조세 출발\n",
      "\t\t\t\t\t\t\t\t\t\t\t\t\t\t\t\t\t9일 뉴욕증권거래소. /AFP 연합뉴스미국과 중국이 상호관세와 보복관세를 주고 받은 가운데, 뉴욕증시가 9일(현지시각) 개장 초 혼조 양상을 보이고 있다.다우존스 산업평...\n"
     ]
    }
   ],
   "source": [
    "import requests\n",
    "import os\n",
    "from urllib.parse import urljoin\n",
    "from IPython.display import Image, display\n",
    "from bs4 import BeautifulSoup\n",
    "\n",
    "section_dict = {\n",
    "    \"최신뉴스\": \"recent?mid=n0100\",\n",
    "    \"정치\": \"section?mid=n0200\",\n",
    "    \"경제\": \"section?mid=n0300\",\n",
    "    \"사회\": \"section?mid=n0400\",\n",
    "    \"세계\": \"section?mid=n0500\",\n",
    "    \"IT/과학\": \"section?mid=n0600\",\n",
    "}\n",
    "\n",
    "base_url = \"https://news.nate.com/\"\n",
    "\n",
    "def print_news(sid):\n",
    "    section = section_dict[sid]\n",
    "    \n",
    "    print(\"URL: \", base_url)\n",
    "    print(\"Section: \", sid, \"섹션\")\n",
    "    print(\"------------------------------------\")\n",
    "    \n",
    "    url = urljoin(base_url, section)\n",
    "    print(f\"{sid}섹션 URL: {url}\")\n",
    "    print(\"------------------------------------\")\n",
    "    \n",
    "    req_header = {\n",
    "        'user-agent': 'Mozilla/5.0 (Windows NT 10.0; Win64; x64) AppleWebKit/537.36 (KHTML, like Gecko) Chrome/135.0.0.0 Safari/537.36'\n",
    "    }\n",
    "\n",
    "    res = requests.get(url, headers = req_header)\n",
    "    \n",
    "    print(f'res.status_code: {res.status_code}')\n",
    "    print(\"------------------------------------\")\n",
    "    if res.ok:\n",
    "        html = res.text\n",
    "        \n",
    "        soup = BeautifulSoup(html, \"html.parser\", from_encoding='UTF-8')\n",
    "    \n",
    "        a_tag_list = soup.select(\"div.postSubjectContent a[href*='view']\")\n",
    "        \n",
    "        \n",
    "        \n",
    "        print(f\"{sid} 섹션 기사 갯수: {len(a_tag_list)}개\")\n",
    "        print(\"------------------------------------\")\n",
    "        for a_tag in a_tag_list:\n",
    "            # image 출력\n",
    "            img_tag = a_tag.select_one('img')\n",
    "            if  img_tag and 'src' in img_tag.attrs:\n",
    "                img_src = img_tag['src']\n",
    "                img_url = urljoin(url, img_src)\n",
    "                \n",
    "                try:\n",
    "                    display(Image(url=img_url))\n",
    "                except Exception as e:\n",
    "                    print(f\"img output error code: {e}\")\n",
    "            \n",
    "            \n",
    "            \n",
    "            link = urljoin(\"https:\", a_tag['href'])\n",
    "            title = a_tag.text.strip()\n",
    "            # print(f\"a_tag['href']\\n{a_tag['href']}\")\n",
    "            print(f'link\\n{link}')\n",
    "            print(f'title\\n{title}')\n",
    "\n",
    "    else:\n",
    "        print(f\"Error Code: {res.status_code}\")\n",
    "        \n",
    "    \n",
    "    \n",
    "\n",
    "print_news('IT/과학')\n",
    "print_news('최신뉴스')\n"
   ]
  },
  {
   "cell_type": "code",
   "execution_count": null,
   "id": "2b62bf65",
   "metadata": {},
   "outputs": [],
   "source": []
  },
  {
   "cell_type": "markdown",
   "id": "18e82aae",
   "metadata": {},
   "source": [
    "# 2-2. 하나의 네이버 웹툰과 1개의 회차에 대한 Image 다운로드 하기 (필수)\n",
    "\n",
    "연습문제는 수요일 밤 12시까지 제출해 주세요.\n",
    "\n",
    ":  하나의 웹툰의 제목(title)과 회차번호(no),회차의URL(url) 을 입력으로 받는 함수를 선언합니다. \n",
    "\n",
    "   def download_one_episode(title,no,url):\n",
    "\n",
    "아래와 같이 호출합니다.\n",
    "\n",
    "download_one_episode('낢이사는이야기',48,'https://comic.naver.com/webtoon/detail?titleId=833255&no=49&week=tue')\n",
    "\n",
    "img\\낢이사는이야기\\48 디렉토리가 생성되며 , \n",
    "그 디렉토리 아래에 웹툰 image들이 다운로드 되도록 해주세요.\n",
    "\n"
   ]
  },
  {
   "cell_type": "code",
   "execution_count": 56,
   "id": "f71d7f08",
   "metadata": {},
   "outputs": [],
   "source": [
    "import requests\n",
    "import os\n",
    "from urllib.parse import urljoin\n",
    "from IPython.display import Image, display\n",
    "from bs4 import BeautifulSoup\n",
    "\n",
    "\n",
    "def download_one_episode(title, no, url):\n",
    "    req_header = {\"referer\": url}\n",
    "    \n",
    "    res = requests.get(url)\n",
    "    res.encoding='euc-kr'\n",
    "    \n",
    "    if res.ok==True:\n",
    "        soup = BeautifulSoup(res.text, 'html.parser')\n",
    "        \n",
    "        img_tags = soup.select(\"img[src*='IMAG01']\")\n",
    "        \n",
    "        img_url_list = list()\n",
    "        for img_tag in img_tags:\n",
    "            img_src = img_tag['src']\n",
    "            img_url_list.append(img_src)\n",
    "            \n",
    "        imgdir_name = os.path.join('img', title, str(no))\n",
    "        if not os.path.isdir(imgdir_name):\n",
    "            os.makedirs(imgdir_name, exist_ok=True)\n",
    "            \n",
    "        for img_url in img_url_list:\n",
    "            res=requests.get(img_url, headers=req_header)\n",
    "            if res.ok:\n",
    "                img_data = res.content\n",
    "                file_name = os.path.join(imgdir_name, os.path.basename(img_url))\n",
    "                with open(file_name, 'wb') as file:\n",
    "                    file.write(img_data)\n",
    "    else:\n",
    "        print(f'Error Code: {res.status_code}')\n",
    "\n",
    "\n",
    "download_one_episode('낢이 사는 이야기1', 48,'https://comic.naver.com/webtoon/detail?titleId=833255&no=49&week=tue')"
   ]
  },
  {
   "cell_type": "markdown",
   "id": "59a61ece",
   "metadata": {},
   "source": [
    "# 2-3. 하나의 네이버 웹툰과 여러개의 회차에 대한 Image 다운로드 하기 (선택)\n",
    ":  하나의 웹툰의 제목(title)과 회차를 알 수 있는 url을 입력으로 받는 함수를 선언합니다. \n",
    "\n",
    "   def download_all_episode(title, episode_url):\n",
    "\n",
    ": 하나의 웹툰에 대한 1Page의 20 회차의 image를 다운로드 받습니다. \n",
    "\n",
    ": 페이징 처리된 모든 회차의 image 다운로드가 어려우시면 그 부분은 생략하셔도 됩니다.\n",
    " \n",
    "download_all_episode('낢이사는이야기', ’https://comic.naver.com/webtoon/list?titleId=833255&tab=tue’)\n",
    "\n",
    "   img\\낢이사는이야기\\50\n",
    "   \n",
    "   img\\낢이사는이야기\\49\n",
    "   \n",
    "   img\\낢이사는이야기\\48\n",
    "\n",
    "https://comic.naver.com/webtoon/list?titleId=833255&tab=tue\n",
    "       \n",
    "위의 페이지에서 모든 회차의 url을 먼저 추출합니다. \n",
    "\n",
    "아래의 같은 \\<a> 태그의 href 속성값을 모두 추출하시면 됩니다.\n",
    "\n",
    "<a href=\"/webtoon/detail?titleId=833255&amp;no=51&amp;week=tue\"></a>\n",
    "\n",
    "<a href=\"/webtoon/detail?titleId=833255&amp;no=50&amp;week=tue\"></a>\n",
    "\n",
    "회차의 url에 회차번호가 있습니다. \n",
    "\n",
    "예를 들어 no=49 일때 실제의 회차는 50회 입니다. \n",
    "\n",
    "https://comic.naver.com/webtoon/detail?titleId=833255&no=49&week=tue\n",
    "\n",
    "추출한 회차의 url를 순회하면서 2-2. 하나의 네이버 웹툰과 1개의 회차에 대한 Image 다운로드 함수를 호출하시면 됩니다. \n"
   ]
  },
  {
   "cell_type": "code",
   "execution_count": null,
   "id": "3174a849",
   "metadata": {},
   "outputs": [],
   "source": []
  }
 ],
 "metadata": {
  "kernelspec": {
   "display_name": "base",
   "language": "python",
   "name": "python3"
  },
  "language_info": {
   "codemirror_mode": {
    "name": "ipython",
    "version": 3
   },
   "file_extension": ".py",
   "mimetype": "text/x-python",
   "name": "python",
   "nbconvert_exporter": "python",
   "pygments_lexer": "ipython3",
   "version": "3.12.7"
  }
 },
 "nbformat": 4,
 "nbformat_minor": 5
}
